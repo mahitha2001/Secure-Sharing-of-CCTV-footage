{
  "nbformat": 4,
  "nbformat_minor": 0,
  "metadata": {
    "colab": {
      "provenance": []
    },
    "kernelspec": {
      "name": "python3",
      "display_name": "Python 3"
    },
    "language_info": {
      "name": "python"
    }
  },
  "cells": [
    {
      "cell_type": "code",
      "source": [
        "import numpy as np\n",
        "import cv2\n",
        "\n",
        "from PIL import Image, ImageFilter\n",
        "\n",
        "\n"
      ],
      "metadata": {
        "id": "hQL2slYwEdDp"
      },
      "execution_count": 66,
      "outputs": []
    },
    {
      "cell_type": "code",
      "source": [
        "face_cascade = cv2.CascadeClassifier('/mnt/haarcascade_frontalface_default.xml')\n",
        "img = cv2.imread('/media/test.png')\n",
        "gray = cv2.cvtColor(img, cv2.COLOR_BGR2GRAY)\n",
        "faces = face_cascade.detectMultiScale(gray, 1.1, 4)\n",
        "#img2 = cv2.imread('./test.png')"
      ],
      "metadata": {
        "id": "395iVhWuHZY6"
      },
      "execution_count": 67,
      "outputs": []
    },
    {
      "cell_type": "code",
      "source": [
        "for (x, y, w, h) in faces:\n",
        "    cv2.rectangle(img, (x, y), (x+w, y+h), (255, 0, 0), 2)\n",
        "cv2.imwrite('/media/face_detection_result.png', img)"
      ],
      "metadata": {
        "colab": {
          "base_uri": "https://localhost:8080/"
        },
        "id": "C8l5imE9k6s4",
        "outputId": "e5f47bca-0109-449b-88af-85b865f2e3d5"
      },
      "execution_count": 68,
      "outputs": [
        {
          "output_type": "execute_result",
          "data": {
            "text/plain": [
              "True"
            ]
          },
          "metadata": {},
          "execution_count": 68
        }
      ]
    },
    {
      "cell_type": "code",
      "source": [
        "from PIL import Image\n",
        "import os\n",
        "from matplotlib.pyplot import imshow\n",
        "import matplotlib.pyplot as plt\n",
        "import random\n",
        "from math import log\n",
        "from tqdm import tqdm"
      ],
      "metadata": {
        "id": "VeSpLcbElYyd"
      },
      "execution_count": 69,
      "outputs": []
    },
    {
      "cell_type": "code",
      "source": [
        "def getImageMatrix(imageName):\n",
        "    im = Image.open(imageName, mode=\"r\") \n",
        "    pix = im.load()\n",
        "    color = 1\n",
        "    if type(pix[0,0]) == int:\n",
        "        color=0\n",
        "    image_size = im.size \n",
        "    image_matrix = []\n",
        "    for width in range(int(image_size[0])):\n",
        "        row = []\n",
        "        for height in range(int(image_size[1])):\n",
        "                row.append((pix[width,height]))\n",
        "        image_matrix.append(row)\n",
        "    return image_matrix,image_size[0],color"
      ],
      "metadata": {
        "id": "gz-aXORAla7u"
      },
      "execution_count": 70,
      "outputs": []
    },
    {
      "cell_type": "code",
      "source": [
        "def LogisticEncryption(imageName, key):\n",
        "    N = 256\n",
        "    key_list = [ord(x) for x in key]\n",
        "    G = [key_list[0:4] ,key_list[4:8], key_list[8:12]]\n",
        "    g = []\n",
        "    R = 1\n",
        "    for i in range(1,4):\n",
        "        s = 0\n",
        "        for j in range(1,5):\n",
        "            s += G[i-1][j-1] * (10**(-j))\n",
        "        g.append(s)\n",
        "        R = (R*s) % 1\n",
        "    L = (R + key_list[12]/256) % 1\n",
        "    S_x = round(((g[0]+g[1]+g[2])*(10**4) + L *(10**4)) % 256)\n",
        "    V1 = sum(key_list)\n",
        "    V2 = key_list[0]\n",
        "    for i in range(1,13):\n",
        "        V2 = V2 ^ key_list[i]\n",
        "    V = V2/V1\n",
        "    L_y = (V+key_list[12]/256) % 1\n",
        "    S_y = round((V+V2+L_y*10**4) % 256)\n",
        "    C1_0 = S_x\n",
        "    C2_0 = S_y\n",
        "    C = round((L*L_y*10**4) % 256)\n",
        "    C_r = round((L*L_y*10**4) % 256)\n",
        "    C_g = round((L*L_y*10**4) % 256)\n",
        "    C_b = round((L*L_y*10**4) % 256)\n",
        "    x = 4*(S_x)*(1-S_x)\n",
        "    y = 4*(S_y)*(1-S_y)\n",
        "    imageMatrix,dimension, color = getImageMatrix(imageName)\n",
        "    LogisticEncryptionIm = []\n",
        "    for i in range(dimension):\n",
        "        row = []\n",
        "        for j in range(dimension):\n",
        "            while x <0.8 and x > 0.2 :\n",
        "                x = 4*x*(1-x)\n",
        "            while y <0.8 and y > 0.2 :\n",
        "                y = 4*y*(1-y)\n",
        "            x_round = round((x*(10**4))%256)\n",
        "            y_round = round((y*(10**4))%256)\n",
        "            C1 = x_round ^ ((key_list[0]+x_round) % N) ^ ((C1_0 + key_list[1])%N)\n",
        "            C2 = x_round ^ ((key_list[2]+y_round) % N) ^ ((C2_0 + key_list[3])%N) \n",
        "            if color:\n",
        "                C_r =((key_list[4]+C1) % N) ^ ((key_list[5]+C2) % N) ^ ((key_list[6]+imageMatrix[i][j][0]) % N) ^ ((C_r + key_list[7]) % N)\n",
        "                C_g =((key_list[4]+C1) % N) ^ ((key_list[5]+C2) % N) ^ ((key_list[6]+imageMatrix[i][j][1]) % N) ^ ((C_g + key_list[7]) % N)\n",
        "                C_b =((key_list[4]+C1) % N) ^ ((key_list[5]+C2) % N) ^ ((key_list[6]+imageMatrix[i][j][2]) % N) ^ ((C_b + key_list[7]) % N)\n",
        "                row.append((C_r,C_g,C_b))\n",
        "                C = C_r\n",
        "            else:\n",
        "                C = ((key_list[4]+C1) % N) ^ ((key_list[5]+C2) % N) ^ ((key_list[6]+imageMatrix[i][j]) % N) ^ ((C + key_list[7]) % N)\n",
        "                row.append(C)\n",
        "            x = (x + C/256 + key_list[8]/256 + key_list[9]/256) % 1\n",
        "            y = (x + C/256 + key_list[8]/256 + key_list[9]/256) % 1\n",
        "            for ki in range(12):\n",
        "                key_list[ki] = (key_list[ki] + key_list[12]) % 256\n",
        "                key_list[12] = key_list[12] ^ key_list[ki]\n",
        "        LogisticEncryptionIm.append(row)\n",
        "    im = Image.new('L', (dimension, dimension))\n",
        "    if color:\n",
        "        im = Image.new('RGB', (dimension, dimension))\n",
        "    else: \n",
        "        im = Image.new('L', (dimension, dimension)) # L is for Black and white pixels    \n",
        "    pix = im.load()\n",
        "    for x in range(dimension):\n",
        "        for y in range(dimension):\n",
        "            pix[x, y] = LogisticEncryptionIm[x][y]\n",
        "    im.save(imageName, \"BMP\")"
      ],
      "metadata": {
        "id": "j_xtGErglef1"
      },
      "execution_count": 71,
      "outputs": []
    },
    {
      "cell_type": "code",
      "source": [
        "image = \"/media/induvidual_face\"\n",
        "ext = \".bmp\"\n",
        "key = \"abcdefghijklm\""
      ],
      "metadata": {
        "id": "jQHudo2qllEP"
      },
      "execution_count": 72,
      "outputs": []
    },
    {
      "cell_type": "code",
      "source": [
        "for (x, y, w, h) in faces:\n",
        "    cropped_image = img[y:y+h, x:x+w]\n",
        "    cv2.imwrite('/media/induvidual_face.bmp', cropped_image)\n",
        "    LogisticEncryption(image + ext, key)\n",
        "    im = Image.open(image + \".bmp\", 'r')\n",
        "    LogisticResult = cv2.imread(\"/media/induvidual_face.bmp\",cv2.IMREAD_COLOR)\n",
        "    img[y:y+h, x:x+w] = LogisticResult\n",
        "cv2.imwrite('/media/Encryption_Result.bmp', img)"
      ],
      "metadata": {
        "colab": {
          "base_uri": "https://localhost:8080/"
        },
        "id": "cI8_20k2mN9G",
        "outputId": "9650e785-8b58-4d32-c141-af17ed394c58"
      },
      "execution_count": 73,
      "outputs": [
        {
          "output_type": "execute_result",
          "data": {
            "text/plain": [
              "True"
            ]
          },
          "metadata": {},
          "execution_count": 73
        }
      ]
    },
    {
      "cell_type": "code",
      "source": [
        "# Open image and make into Numpy array\n",
        "im = Image.open('/media/Encryption_Result.bmp').convert('RGB')\n",
        "na = np.array(im)\n",
        "orig = na.copy()    # Save original\n",
        "print(na)\n"
      ],
      "metadata": {
        "id": "AEWRbHc7Vvlg",
        "colab": {
          "base_uri": "https://localhost:8080/"
        },
        "outputId": "ed940873-9c19-4162-e921-48bca5136ddd"
      },
      "execution_count": 74,
      "outputs": [
        {
          "output_type": "stream",
          "name": "stdout",
          "text": [
            "[[[220 219 217]\n",
            "  [225 224 222]\n",
            "  [226 225 223]\n",
            "  ...\n",
            "  [232 231 229]\n",
            "  [232 231 229]\n",
            "  [232 231 229]]\n",
            "\n",
            " [[227 226 224]\n",
            "  [232 231 229]\n",
            "  [232 231 229]\n",
            "  ...\n",
            "  [232 231 229]\n",
            "  [232 231 229]\n",
            "  [232 231 229]]\n",
            "\n",
            " [[225 224 222]\n",
            "  [230 229 227]\n",
            "  [231 230 228]\n",
            "  ...\n",
            "  [232 231 229]\n",
            "  [232 231 229]\n",
            "  [233 232 230]]\n",
            "\n",
            " ...\n",
            "\n",
            " [[245 245 245]\n",
            "  [252 252 252]\n",
            "  [250 250 250]\n",
            "  ...\n",
            "  [251 251 251]\n",
            "  [251 251 251]\n",
            "  [251 251 251]]\n",
            "\n",
            " [[247 247 247]\n",
            "  [251 251 251]\n",
            "  [252 252 252]\n",
            "  ...\n",
            "  [251 251 251]\n",
            "  [251 251 251]\n",
            "  [251 251 251]]\n",
            "\n",
            " [[242 242 242]\n",
            "  [246 246 246]\n",
            "  [247 247 247]\n",
            "  ...\n",
            "  [251 251 251]\n",
            "  [251 251 251]\n",
            "  [251 251 251]]]\n"
          ]
        }
      ]
    },
    {
      "cell_type": "code",
      "source": [
        "\n",
        "# Median filter to remove outliers\n",
        "#im = im.filter(ImageFilter.MedianFilter(3))"
      ],
      "metadata": {
        "id": "RD9nrDuVWFYP"
      },
      "execution_count": 75,
      "outputs": []
    },
    {
      "cell_type": "code",
      "source": [
        "# Find X,Y coordinates of all yellow pixels\n",
        "yellowY, yellowX = np.where(np.all(na==[0, 0, 255],axis=2))\n",
        "print(yellowX)\n",
        "#yellowY2, yellowX2= np.where(np.all(na==[0, 0, 255],axis=-2))\n",
        "zipped = np.column_stack((yellowX,yellowY))\n",
        "#print(\"xipp\",zipped)"
      ],
      "metadata": {
        "colab": {
          "base_uri": "https://localhost:8080/"
        },
        "id": "oeorQ-nfWLwU",
        "outputId": "4656f562-e606-4a42-8d07-b787d8394e2a"
      },
      "execution_count": 76,
      "outputs": [
        {
          "output_type": "stream",
          "name": "stdout",
          "text": [
            "[720 721 722 ... 432 433 434]\n"
          ]
        }
      ]
    },
    {
      "cell_type": "code",
      "source": [
        "uniqueY = list(yellowY)\n",
        "print(uniqueY)\n",
        "uniqueX= list(set(yellowX))\n",
        "print(uniqueX)\n",
        "uniquesetX={uniqueX[0]}\n",
        "uniquesetY={uniqueY[0]}"
      ],
      "metadata": {
        "id": "nl1BO9uqWmDd",
        "colab": {
          "base_uri": "https://localhost:8080/"
        },
        "outputId": "d6436bfe-6f91-4d29-92bb-286d4b09565b"
      },
      "execution_count": 77,
      "outputs": [
        {
          "output_type": "stream",
          "name": "stdout",
          "text": [
            "[24, 24, 24, 24, 24, 24, 24, 24, 24, 24, 24, 24, 24, 24, 24, 24, 24, 24, 24, 24, 24, 24, 24, 24, 24, 24, 24, 24, 24, 24, 24, 24, 24, 24, 24, 24, 24, 24, 24, 24, 24, 24, 24, 24, 24, 24, 24, 24, 24, 24, 24, 25, 25, 25, 26, 26, 26, 27, 27, 27, 27, 27, 27, 27, 27, 27, 27, 27, 27, 27, 27, 27, 27, 27, 27, 27, 27, 27, 27, 27, 27, 27, 27, 27, 27, 27, 27, 27, 27, 27, 27, 27, 27, 27, 27, 27, 27, 27, 27, 27, 27, 27, 27, 27, 27, 27, 27, 27, 28, 28, 28, 28, 28, 28, 29, 29, 29, 29, 29, 29, 29, 29, 29, 29, 29, 29, 29, 29, 29, 29, 29, 29, 29, 29, 29, 29, 29, 29, 29, 29, 29, 29, 29, 29, 29, 29, 29, 29, 29, 29, 29, 29, 29, 29, 29, 29, 29, 29, 29, 29, 29, 29, 29, 29, 29, 29, 29, 29, 29, 29, 29, 29, 29, 29, 29, 29, 29, 29, 29, 30, 30, 30, 30, 30, 30, 30, 30, 30, 30, 30, 30, 30, 30, 30, 30, 30, 30, 30, 30, 30, 30, 30, 30, 30, 30, 30, 30, 30, 30, 30, 30, 30, 30, 30, 30, 30, 30, 30, 30, 30, 30, 30, 30, 30, 30, 30, 30, 30, 30, 30, 30, 30, 30, 30, 30, 30, 30, 30, 30, 30, 30, 30, 31, 31, 31, 31, 31, 31, 31, 31, 31, 31, 31, 31, 31, 31, 31, 31, 31, 31, 31, 31, 31, 31, 31, 31, 31, 31, 31, 31, 31, 31, 31, 31, 31, 31, 31, 31, 31, 31, 31, 31, 31, 31, 31, 31, 31, 31, 31, 31, 31, 31, 31, 31, 31, 31, 31, 31, 31, 31, 31, 31, 31, 31, 31, 31, 31, 31, 32, 32, 32, 32, 32, 32, 32, 32, 32, 32, 32, 32, 32, 32, 32, 33, 33, 33, 33, 33, 33, 33, 33, 33, 33, 33, 33, 33, 33, 33, 34, 34, 34, 34, 34, 34, 34, 34, 34, 34, 34, 34, 34, 34, 34, 35, 35, 35, 35, 35, 35, 35, 35, 35, 35, 35, 35, 35, 35, 35, 35, 35, 35, 35, 35, 35, 35, 35, 35, 35, 35, 35, 35, 35, 35, 35, 35, 35, 35, 35, 35, 35, 35, 35, 35, 35, 35, 35, 35, 35, 35, 35, 35, 35, 35, 35, 35, 35, 35, 35, 35, 35, 35, 35, 35, 35, 35, 35, 35, 35, 35, 35, 35, 35, 35, 36, 36, 36, 36, 36, 36, 36, 36, 36, 36, 36, 36, 36, 36, 36, 36, 36, 36, 37, 37, 37, 37, 37, 37, 37, 37, 37, 37, 37, 37, 37, 37, 37, 37, 37, 37, 38, 38, 38, 38, 38, 38, 38, 38, 38, 38, 38, 38, 38, 38, 38, 38, 38, 38, 39, 39, 39, 39, 39, 39, 39, 39, 39, 39, 39, 39, 39, 39, 39, 39, 39, 39, 40, 40, 40, 40, 40, 40, 40, 40, 40, 40, 40, 40, 40, 40, 40, 40, 40, 40, 41, 41, 41, 41, 41, 41, 41, 41, 41, 41, 41, 41, 41, 41, 41, 41, 41, 41, 42, 42, 42, 42, 42, 42, 42, 42, 42, 42, 42, 42, 42, 42, 42, 42, 42, 42, 43, 43, 43, 43, 43, 43, 43, 43, 43, 43, 43, 43, 43, 43, 43, 43, 43, 43, 44, 44, 44, 44, 44, 44, 44, 44, 44, 44, 44, 44, 44, 44, 44, 44, 44, 44, 45, 45, 45, 45, 45, 45, 45, 45, 45, 45, 45, 45, 45, 45, 45, 45, 45, 45, 46, 46, 46, 46, 46, 46, 46, 46, 46, 46, 46, 46, 46, 46, 46, 46, 46, 46, 47, 47, 47, 47, 47, 47, 47, 47, 47, 47, 47, 47, 47, 47, 47, 47, 47, 47, 48, 48, 48, 48, 48, 48, 48, 48, 48, 48, 48, 48, 48, 48, 48, 48, 48, 48, 49, 49, 49, 49, 49, 49, 49, 49, 49, 49, 49, 49, 49, 49, 49, 49, 49, 49, 50, 50, 50, 50, 50, 50, 50, 50, 50, 50, 50, 50, 50, 50, 50, 50, 50, 50, 51, 51, 51, 51, 51, 51, 51, 51, 51, 51, 51, 51, 51, 51, 51, 51, 51, 51, 52, 52, 52, 52, 52, 52, 52, 52, 52, 52, 52, 52, 52, 52, 52, 52, 52, 52, 53, 53, 53, 53, 53, 53, 53, 53, 53, 53, 53, 53, 53, 53, 53, 53, 53, 53, 54, 54, 54, 54, 54, 54, 54, 54, 54, 54, 54, 54, 54, 54, 54, 54, 54, 54, 55, 55, 55, 55, 55, 55, 55, 55, 55, 55, 55, 55, 55, 55, 55, 55, 55, 55, 56, 56, 56, 56, 56, 56, 56, 56, 56, 56, 56, 56, 56, 56, 56, 56, 56, 56, 57, 57, 57, 57, 57, 57, 57, 57, 57, 57, 57, 57, 57, 57, 57, 57, 57, 57, 58, 58, 58, 58, 58, 58, 58, 58, 58, 58, 58, 58, 58, 58, 58, 58, 58, 58, 59, 59, 59, 59, 59, 59, 59, 59, 59, 59, 59, 59, 59, 59, 59, 59, 59, 59, 60, 60, 60, 60, 60, 60, 60, 60, 60, 60, 60, 60, 60, 60, 60, 60, 60, 60, 61, 61, 61, 61, 61, 61, 61, 61, 61, 61, 61, 61, 61, 61, 61, 61, 61, 61, 62, 62, 62, 62, 62, 62, 62, 62, 62, 62, 62, 62, 62, 62, 62, 62, 62, 62, 63, 63, 63, 63, 63, 63, 63, 63, 63, 63, 63, 63, 63, 63, 63, 63, 63, 63, 64, 64, 64, 64, 64, 64, 64, 64, 64, 64, 64, 64, 64, 64, 64, 64, 64, 64, 65, 65, 65, 65, 65, 65, 65, 65, 65, 65, 65, 65, 65, 65, 65, 65, 65, 65, 66, 66, 66, 66, 66, 66, 66, 66, 66, 66, 66, 66, 66, 66, 66, 66, 66, 66, 67, 67, 67, 67, 67, 67, 67, 67, 67, 67, 67, 67, 67, 67, 67, 67, 67, 67, 68, 68, 68, 68, 68, 68, 68, 68, 68, 68, 68, 68, 68, 68, 68, 68, 68, 68, 69, 69, 69, 69, 69, 69, 69, 69, 69, 69, 69, 69, 69, 69, 69, 69, 69, 69, 70, 70, 70, 70, 70, 70, 70, 70, 70, 70, 70, 70, 70, 70, 70, 70, 70, 70, 71, 71, 71, 71, 71, 71, 71, 71, 71, 71, 71, 71, 71, 71, 71, 71, 71, 71, 72, 72, 72, 72, 72, 72, 72, 72, 72, 72, 72, 72, 72, 72, 72, 72, 72, 72, 73, 73, 73, 73, 73, 73, 73, 73, 73, 73, 73, 73, 73, 73, 73, 73, 73, 73, 74, 74, 74, 74, 74, 74, 74, 74, 74, 74, 74, 74, 74, 74, 74, 74, 74, 74, 75, 75, 75, 75, 75, 75, 75, 75, 75, 75, 75, 75, 75, 75, 75, 75, 75, 75, 75, 75, 75, 75, 75, 75, 75, 75, 75, 75, 75, 75, 75, 75, 75, 75, 75, 75, 75, 75, 75, 75, 75, 75, 75, 75, 75, 75, 75, 75, 75, 75, 75, 75, 75, 75, 75, 75, 75, 75, 75, 75, 75, 75, 75, 75, 75, 75, 75, 75, 75, 75, 75, 75, 75, 75, 75, 75, 75, 75, 75, 75, 75, 75, 75, 75, 75, 75, 75, 75, 75, 75, 75, 75, 75, 75, 75, 75, 75, 75, 75, 75, 75, 75, 75, 75, 75, 75, 75, 75, 75, 75, 75, 75, 75, 75, 75, 76, 76, 76, 76, 76, 76, 76, 76, 76, 76, 76, 76, 76, 76, 76, 76, 76, 76, 76, 76, 76, 76, 76, 76, 76, 76, 76, 76, 76, 76, 76, 76, 76, 76, 76, 76, 76, 76, 76, 76, 76, 76, 76, 76, 76, 76, 76, 76, 76, 76, 76, 76, 76, 76, 76, 76, 76, 76, 76, 76, 76, 76, 76, 76, 76, 76, 76, 76, 76, 76, 76, 76, 76, 76, 76, 76, 76, 76, 76, 76, 76, 76, 76, 76, 76, 76, 76, 76, 76, 76, 76, 76, 76, 76, 76, 76, 76, 76, 76, 76, 76, 76, 76, 76, 76, 76, 76, 76, 76, 76, 76, 77, 77, 77, 77, 77, 77, 77, 77, 77, 77, 77, 77, 78, 78, 78, 78, 78, 78, 78, 78, 78, 78, 78, 78, 79, 79, 79, 79, 79, 79, 79, 79, 79, 79, 79, 79, 80, 80, 80, 80, 80, 80, 80, 80, 80, 80, 80, 80, 81, 81, 81, 81, 81, 81, 81, 81, 81, 81, 81, 81, 82, 82, 82, 82, 82, 82, 82, 82, 82, 82, 82, 82, 83, 83, 83, 83, 83, 83, 83, 83, 83, 83, 83, 83, 84, 84, 84, 84, 84, 84, 84, 84, 84, 84, 84, 84, 84, 84, 84, 84, 84, 84, 84, 84, 84, 84, 84, 84, 84, 84, 84, 84, 84, 84, 84, 84, 84, 84, 84, 84, 84, 84, 84, 84, 84, 84, 84, 84, 84, 84, 84, 84, 84, 84, 84, 84, 84, 84, 84, 84, 84, 84, 84, 84, 84, 84, 84, 84, 84, 85, 85, 85, 85, 85, 85, 85, 85, 85, 85, 85, 85, 85, 85, 85, 85, 85, 85, 85, 85, 85, 85, 85, 85, 85, 85, 85, 85, 85, 85, 85, 85, 85, 85, 85, 85, 85, 85, 85, 85, 85, 85, 85, 85, 85, 85, 85, 85, 85, 85, 85, 85, 85, 85, 85, 85, 85, 85, 85, 85, 85, 85, 85, 85, 85, 85, 85, 85, 85, 85, 85, 85, 85, 85, 85, 85, 85, 85, 85, 85, 85, 85, 85, 85, 85, 85, 85, 85, 85, 85, 85, 85, 85, 85, 85, 85, 85, 85, 85, 85, 85, 85, 85, 85, 85, 85, 85, 85, 85, 85, 85, 85, 85, 85, 85, 85, 86, 86, 86, 86, 86, 86, 86, 86, 86, 86, 86, 86, 86, 86, 86, 86, 86, 86, 86, 86, 86, 86, 86, 86, 86, 86, 86, 86, 86, 86, 86, 86, 86, 86, 86, 86, 86, 86, 86, 86, 86, 86, 86, 86, 86, 86, 86, 86, 86, 86, 86, 86, 86, 86, 86, 86, 86, 86, 86, 86, 87, 87, 87, 87, 87, 87, 88, 88, 88, 88, 88, 88, 88, 88, 88, 88, 88, 88, 88, 88, 88, 88, 88, 88, 88, 88, 88, 88, 88, 88, 88, 88, 88, 88, 88, 88, 88, 88, 88, 88, 88, 88, 88, 88, 88, 88, 88, 88, 88, 88, 88, 88, 88, 88, 88, 88, 88, 88, 88, 88, 88, 88, 88, 88, 88, 88, 88, 88, 88, 88, 89, 89, 89, 89, 89, 89, 89, 89, 89, 89, 89, 89, 89, 89, 89, 89, 89, 89, 89, 89, 89, 89, 89, 89, 89, 89, 89, 89, 89, 89, 89, 89, 89, 89, 89, 89, 89, 89, 89, 89, 89, 89, 89, 89, 89, 89, 89, 89, 89, 89, 89, 89, 89, 89, 89, 89, 89, 89, 89, 89, 89, 89, 90, 90, 90, 90, 90, 90, 90, 90, 90, 90, 90, 90, 90, 90, 90, 90, 90, 90, 90, 90, 90, 90, 90, 90, 90, 90, 90, 90, 90, 90, 90, 90, 90, 90, 90, 90, 90, 90, 90, 90, 90, 90, 90, 90, 90, 90, 90, 90, 90, 90, 90, 90, 90, 90, 90, 90, 90, 91, 91, 91, 91, 91, 91, 91, 91, 91, 91, 91, 91, 91, 91, 91, 91, 91, 91, 91, 91, 91, 91, 91, 91, 91, 91, 91, 91, 91, 91, 91, 91, 91, 91, 91, 91, 91, 91, 91, 91, 91, 91, 91, 91, 91, 91, 91, 91, 91, 91, 91, 91, 91, 91, 91]\n",
            "[70, 71, 72, 73, 74, 75, 76, 77, 78, 79, 80, 81, 82, 83, 84, 85, 86, 87, 88, 89, 90, 91, 92, 93, 94, 95, 96, 97, 98, 99, 100, 101, 102, 103, 104, 105, 106, 107, 108, 109, 110, 111, 112, 113, 114, 115, 116, 117, 118, 119, 120, 121, 122, 123, 124, 125, 126, 127, 128, 129, 130, 247, 248, 249, 250, 251, 252, 253, 254, 255, 256, 257, 258, 259, 260, 261, 262, 263, 264, 265, 266, 267, 268, 269, 270, 271, 272, 273, 274, 275, 276, 277, 278, 279, 280, 281, 282, 283, 284, 285, 286, 287, 288, 289, 290, 291, 292, 293, 294, 295, 296, 379, 380, 381, 382, 383, 384, 385, 386, 387, 388, 389, 390, 391, 392, 393, 394, 395, 396, 397, 398, 399, 400, 401, 402, 403, 404, 405, 406, 407, 408, 409, 410, 411, 412, 413, 414, 415, 416, 417, 418, 419, 420, 421, 422, 423, 424, 425, 426, 427, 428, 429, 430, 431, 432, 433, 434, 435, 556, 557, 558, 559, 560, 561, 562, 563, 564, 565, 566, 567, 568, 569, 570, 571, 572, 573, 574, 575, 576, 577, 578, 579, 580, 581, 582, 583, 584, 585, 586, 587, 588, 589, 590, 591, 592, 593, 594, 595, 596, 597, 598, 599, 600, 601, 602, 603, 604, 605, 606, 607, 608, 609, 610, 611, 719, 720, 721, 722, 723, 724, 725, 726, 727, 728, 729, 730, 731, 732, 733, 734, 735, 736, 737, 738, 739, 740, 741, 742, 743, 744, 745, 746, 747, 748, 749, 750, 751, 752, 753, 754, 755, 756, 757, 758, 759, 760, 761, 762, 763, 764, 765, 766, 767, 768, 769, 770, 771, 863, 864, 865, 866, 867, 868, 869, 870, 871, 872, 873, 874, 875, 876, 877, 878, 879, 880, 881, 882, 883, 884, 885, 886, 887, 888, 889, 890, 891, 892, 893, 894, 895, 896, 897, 898, 899, 900, 901, 902, 903, 904, 905, 906, 907, 908, 909, 910, 911, 912, 913, 914, 915, 916, 917, 918]\n"
          ]
        }
      ]
    },
    {
      "cell_type": "code",
      "source": [
        "\n",
        "\n",
        "for x in range(0,len(uniqueX)-1):\n",
        "  if(uniqueX[x+1]-uniqueX[x]>=2):\n",
        "    uniquesetX.add(uniqueX[x])\n",
        "    uniquesetX.add(uniqueX[x+1])\n",
        "uniquesetX.add(uniqueX[len(uniqueX)-1])\n",
        "uniquesetX=sorted(uniquesetX)\n",
        "print(uniquesetX)\n",
        "uniquesetY=list()\n",
        "for a in uniquesetX:\n",
        "  for x,y in zipped:\n",
        "    if(a==x):\n",
        "      uniquesetY.append(y)\n",
        " \n",
        "\n",
        "#print(uniquesetY)\n",
        "\n",
        "uniqueset2Y=list()\n",
        "uniqueset2Y.append(uniquesetY[0])\n",
        "for x in range(0,len(uniquesetY)-1):\n",
        "  if(uniquesetY[x+1]-uniquesetY[x]!=1):\n",
        "    uniqueset2Y.append(uniquesetY[x])\n",
        "    uniqueset2Y.append(uniquesetY[x+1])\n",
        "uniqueset2Y.append(uniquesetY[len(uniquesetY)-1])\n",
        "uniqueset3Y=list()\n",
        "for x in range(0,len(uniqueset2Y),4):\n",
        "  uniqueset3Y.append(uniqueset2Y[x])\n",
        "  uniqueset3Y.append(uniqueset2Y[x+1])\n",
        "print(\"tellmefinal\")\n",
        "print(uniqueset3Y)\n",
        "#tried rotating\n",
        "#print(\"roatted\")\n",
        "\n",
        "#rotimg = im.rotate(90)\n",
        "#na2=np.array(rotimg)\n",
        "#yellowrY, yellowrX = np.where(np.all(na2==[0, 0, 255],axis=2))\n",
        "#uniqueX= list(set(yellowrX))\n",
        "#print(uniqueX)\n",
        "# for y in range(0,len(uniqueY)):\n",
        "#   for x in range(0,len(uniquesetX)):\n",
        "    #if(na[x][y]==[0,0,255]):\n",
        "    ##  uniquesetY.add(y)\n",
        "  \n",
        "\n",
        "\n",
        "\n",
        "#uniquesetY=set()\n",
        "#for y in range(0,len(uniqueY)-1):\n",
        "#  if(uniqueY[y+1]-uniqueY[y]>=2):\n",
        "  #  print('hyi')\n",
        "  #  uniquesetY.add(uniqueY[y])\n",
        "#print(uniquesetY)\n",
        "#if()\n",
        "# top, bottom = yellowY[0], yellowY[-1]\n",
        "# left, right = yellowX[0], yellowX[-1]\n",
        "# print(top,bottom,left,right)\n",
        "\n",
        "# # Extract Region of Interest from unblurred original\n",
        "#ROI = orig[top:bottom, left:right]\n",
        "\n",
        "# Image.fromarray(ROI).save('result.png')"
      ],
      "metadata": {
        "colab": {
          "base_uri": "https://localhost:8080/"
        },
        "id": "mfzztvvfV16m",
        "outputId": "0a762cf4-a776-487e-c327-7adc1377a20d"
      },
      "execution_count": 78,
      "outputs": [
        {
          "output_type": "stream",
          "name": "stdout",
          "text": [
            "[70, 130, 247, 296, 379, 435, 556, 611, 719, 771, 863, 918]\n",
            "tellmefinal\n",
            "[30, 88, 28, 75, 36, 90, 31, 84, 25, 75, 32, 85]\n"
          ]
        }
      ]
    },
    {
      "cell_type": "code",
      "source": [
        "def LogisticDecryption(imageName, key):\n",
        "    N = 256\n",
        "    key_list = [ord(x) for x in key]\n",
        "\n",
        "    G = [key_list[0:4] ,key_list[4:8], key_list[8:12]]\n",
        "    g = []\n",
        "    R = 1\n",
        "    for i in range(1,4):\n",
        "        s = 0\n",
        "        for j in range(1,5):\n",
        "            s += G[i-1][j-1] * (10**(-j))\n",
        "        g.append(s)\n",
        "        R = (R*s) % 1\n",
        "    \n",
        "    L_x = (R + key_list[12]/256) % 1\n",
        "    S_x = round(((g[0]+g[1]+g[2])*(10**4) + L_x *(10**4)) % 256)\n",
        "    V1 = sum(key_list)\n",
        "    V2 = key_list[0]\n",
        "    for i in range(1,13):\n",
        "        V2 = V2 ^ key_list[i]\n",
        "    V = V2/V1\n",
        "\n",
        "    L_y = (V+key_list[12]/256) % 1\n",
        "    S_y = round((V+V2+L_y*10**4) % 256)\n",
        "    C1_0 = S_x\n",
        "    C2_0 = S_y\n",
        "    \n",
        "    C = round((L_x*L_y*10**4) % 256)\n",
        "    I_prev = C\n",
        "    I_prev_r = C\n",
        "    I_prev_g = C\n",
        "    I_prev_b = C\n",
        "    I = C\n",
        "    I_r = C\n",
        "    I_g = C\n",
        "    I_b = C\n",
        "    x_prev = 4*(S_x)*(1-S_x)\n",
        "    y_prev = 4*(L_x)*(1-S_y)\n",
        "    x = x_prev\n",
        "    y = y_prev\n",
        "    imageMatrix, dimension, color = getImageMatrix(imageName)\n",
        "\n",
        "    henonDecryptedImage = []\n",
        "    for i in range(dimension):\n",
        "        row = []\n",
        "        for j in range(dimension):\n",
        "            while x <0.8 and x > 0.2 :\n",
        "                x = 4*x*(1-x)\n",
        "            while y <0.8 and y > 0.2 :\n",
        "                y = 4*y*(1-y)\n",
        "            x_round = round((x*(10**4))%256)\n",
        "            y_round = round((y*(10**4))%256)\n",
        "            C1 = x_round ^ ((key_list[0]+x_round) % N) ^ ((C1_0 + key_list[1])%N)\n",
        "            C2 = x_round ^ ((key_list[2]+y_round) % N) ^ ((C2_0 + key_list[3])%N) \n",
        "            if color:\n",
        "                I_r = ((((key_list[4]+C1) % N) ^ ((key_list[5]+C2) % N) ^ ((I_prev_r + key_list[7]) % N) ^ imageMatrix[i][j][0]) + N-key_list[6])%N\n",
        "                I_g = ((((key_list[4]+C1) % N) ^ ((key_list[5]+C2) % N) ^ ((I_prev_g + key_list[7]) % N) ^ imageMatrix[i][j][1]) + N-key_list[6])%N\n",
        "                I_b = ((((key_list[4]+C1) % N) ^ ((key_list[5]+C2) % N) ^ ((I_prev_b + key_list[7]) % N) ^ imageMatrix[i][j][2]) + N-key_list[6])%N\n",
        "                I_prev_r = imageMatrix[i][j][0]\n",
        "                I_prev_g = imageMatrix[i][j][1]\n",
        "                I_prev_b = imageMatrix[i][j][2]\n",
        "                row.append((I_r,I_g,I_b))\n",
        "                x = (x +  imageMatrix[i][j][0]/256 + key_list[8]/256 + key_list[9]/256) % 1\n",
        "                y = (x +  imageMatrix[i][j][0]/256 + key_list[8]/256 + key_list[9]/256) % 1  \n",
        "            else:\n",
        "                I = ((((key_list[4]+C1) % N) ^ ((key_list[5]+C2) % N) ^ ((I_prev+key_list[7]) % N) ^ imageMatrix[i][j]) + N-key_list[6])%N\n",
        "                I_prev = imageMatrix[i][j]\n",
        "                row.append(I)\n",
        "                x = (x +  imageMatrix[i][j]/256 + key_list[8]/256 + key_list[9]/256) % 1\n",
        "                y = (x +  imageMatrix[i][j]/256 + key_list[8]/256 + key_list[9]/256) % 1\n",
        "            for ki in range(12):\n",
        "                key_list[ki] = (key_list[ki] + key_list[12]) % 256\n",
        "                key_list[12] = key_list[12] ^ key_list[ki]\n",
        "        henonDecryptedImage.append(row)\n",
        "    if color:\n",
        "        im = Image.new(\"RGB\", (dimension, dimension))\n",
        "    else: \n",
        "        im = Image.new(\"L\", (dimension, dimension)) # L is for Black and white pixels\n",
        "    pix = im.load()\n",
        "    for x in range(dimension):\n",
        "        for y in range(dimension):\n",
        "            pix[x, y] = henonDecryptedImage[x][y]\n",
        "    im.save(imageName.split('_')[0], \"PNG\")\n",
        "    print(\"done\")"
      ],
      "metadata": {
        "id": "WBmogVLv0f0S"
      },
      "execution_count": 79,
      "outputs": []
    },
    {
      "cell_type": "code",
      "source": [
        "image = \"/media/tempdecrypt\"\n",
        "ext = \".bmp\"\n",
        "key = \"abcdefghijklm\""
      ],
      "metadata": {
        "id": "IjL8oIsB0iyz"
      },
      "execution_count": 80,
      "outputs": []
    },
    {
      "cell_type": "code",
      "source": [
        "import cv2\n",
        "img = cv2.imread('/media/Encryption_Result.bmp')\n",
        "for i in range(0,len(uniquesetX)-1,2):\n",
        "  a=uniqueset3Y[i]\n",
        "  b=uniqueset3Y[i+1]\n",
        "  c=uniquesetX[i]\n",
        "  d=uniquesetX[i+1]\n",
        "  print(i,a,b,c,d)\n",
        "  face=img[a:b,c:d]\n",
        "  cv2.imwrite('/media/tempdecrypt.bmp', face)\n",
        "  LogisticDecryption(image + ext, key)\n",
        "  im = Image.open(image + \".bmp\", 'r')\n",
        "  LogisticResult = cv2.imread(\"/media/tempdecrypt.bmp\",cv2.IMREAD_COLOR)\n",
        "  img[a:b,c:d] = LogisticResult\n",
        "\n",
        "\n",
        "cv2.imwrite('/media/Decryption_Result.png', img)\n",
        "  \n",
        "# face = img[30:87, 70:129]\n",
        "cv2.waitKey(0)"
      ],
      "metadata": {
        "id": "z0WnSVl9Ecz-",
        "colab": {
          "base_uri": "https://localhost:8080/",
          "height": 426
        },
        "outputId": "56605810-42e3-47ee-bddf-87dead6f7975"
      },
      "execution_count": 81,
      "outputs": [
        {
          "output_type": "stream",
          "name": "stdout",
          "text": [
            "0 30 88 70 130\n"
          ]
        },
        {
          "output_type": "error",
          "ename": "IndexError",
          "evalue": "ignored",
          "traceback": [
            "\u001b[0;31m---------------------------------------------------------------------------\u001b[0m",
            "\u001b[0;31mIndexError\u001b[0m                                Traceback (most recent call last)",
            "\u001b[0;32m<ipython-input-81-7cc0ad386802>\u001b[0m in \u001b[0;36m<module>\u001b[0;34m\u001b[0m\n\u001b[1;32m      9\u001b[0m   \u001b[0mface\u001b[0m\u001b[0;34m=\u001b[0m\u001b[0mimg\u001b[0m\u001b[0;34m[\u001b[0m\u001b[0ma\u001b[0m\u001b[0;34m:\u001b[0m\u001b[0mb\u001b[0m\u001b[0;34m,\u001b[0m\u001b[0mc\u001b[0m\u001b[0;34m:\u001b[0m\u001b[0md\u001b[0m\u001b[0;34m]\u001b[0m\u001b[0;34m\u001b[0m\u001b[0;34m\u001b[0m\u001b[0m\n\u001b[1;32m     10\u001b[0m   \u001b[0mcv2\u001b[0m\u001b[0;34m.\u001b[0m\u001b[0mimwrite\u001b[0m\u001b[0;34m(\u001b[0m\u001b[0;34m'/media/tempdecrypt.bmp'\u001b[0m\u001b[0;34m,\u001b[0m \u001b[0mface\u001b[0m\u001b[0;34m)\u001b[0m\u001b[0;34m\u001b[0m\u001b[0;34m\u001b[0m\u001b[0m\n\u001b[0;32m---> 11\u001b[0;31m   \u001b[0mLogisticDecryption\u001b[0m\u001b[0;34m(\u001b[0m\u001b[0mimage\u001b[0m \u001b[0;34m+\u001b[0m \u001b[0mext\u001b[0m\u001b[0;34m,\u001b[0m \u001b[0mkey\u001b[0m\u001b[0;34m)\u001b[0m\u001b[0;34m\u001b[0m\u001b[0;34m\u001b[0m\u001b[0m\n\u001b[0m\u001b[1;32m     12\u001b[0m   \u001b[0mim\u001b[0m \u001b[0;34m=\u001b[0m \u001b[0mImage\u001b[0m\u001b[0;34m.\u001b[0m\u001b[0mopen\u001b[0m\u001b[0;34m(\u001b[0m\u001b[0mimage\u001b[0m \u001b[0;34m+\u001b[0m \u001b[0;34m\".bmp\"\u001b[0m\u001b[0;34m,\u001b[0m \u001b[0;34m'r'\u001b[0m\u001b[0;34m)\u001b[0m\u001b[0;34m\u001b[0m\u001b[0;34m\u001b[0m\u001b[0m\n\u001b[1;32m     13\u001b[0m   \u001b[0mLogisticResult\u001b[0m \u001b[0;34m=\u001b[0m \u001b[0mcv2\u001b[0m\u001b[0;34m.\u001b[0m\u001b[0mimread\u001b[0m\u001b[0;34m(\u001b[0m\u001b[0;34m\"/media/tempdecrypt.bmp\"\u001b[0m\u001b[0;34m,\u001b[0m\u001b[0mcv2\u001b[0m\u001b[0;34m.\u001b[0m\u001b[0mIMREAD_COLOR\u001b[0m\u001b[0;34m)\u001b[0m\u001b[0;34m\u001b[0m\u001b[0;34m\u001b[0m\u001b[0m\n",
            "\u001b[0;32m<ipython-input-79-fa44f8396545>\u001b[0m in \u001b[0;36mLogisticDecryption\u001b[0;34m(imageName, key)\u001b[0m\n\u001b[1;32m     54\u001b[0m             \u001b[0mC2\u001b[0m \u001b[0;34m=\u001b[0m \u001b[0mx_round\u001b[0m \u001b[0;34m^\u001b[0m \u001b[0;34m(\u001b[0m\u001b[0;34m(\u001b[0m\u001b[0mkey_list\u001b[0m\u001b[0;34m[\u001b[0m\u001b[0;36m2\u001b[0m\u001b[0;34m]\u001b[0m\u001b[0;34m+\u001b[0m\u001b[0my_round\u001b[0m\u001b[0;34m)\u001b[0m \u001b[0;34m%\u001b[0m \u001b[0mN\u001b[0m\u001b[0;34m)\u001b[0m \u001b[0;34m^\u001b[0m \u001b[0;34m(\u001b[0m\u001b[0;34m(\u001b[0m\u001b[0mC2_0\u001b[0m \u001b[0;34m+\u001b[0m \u001b[0mkey_list\u001b[0m\u001b[0;34m[\u001b[0m\u001b[0;36m3\u001b[0m\u001b[0;34m]\u001b[0m\u001b[0;34m)\u001b[0m\u001b[0;34m%\u001b[0m\u001b[0mN\u001b[0m\u001b[0;34m)\u001b[0m\u001b[0;34m\u001b[0m\u001b[0;34m\u001b[0m\u001b[0m\n\u001b[1;32m     55\u001b[0m             \u001b[0;32mif\u001b[0m \u001b[0mcolor\u001b[0m\u001b[0;34m:\u001b[0m\u001b[0;34m\u001b[0m\u001b[0;34m\u001b[0m\u001b[0m\n\u001b[0;32m---> 56\u001b[0;31m                 \u001b[0mI_r\u001b[0m \u001b[0;34m=\u001b[0m \u001b[0;34m(\u001b[0m\u001b[0;34m(\u001b[0m\u001b[0;34m(\u001b[0m\u001b[0;34m(\u001b[0m\u001b[0mkey_list\u001b[0m\u001b[0;34m[\u001b[0m\u001b[0;36m4\u001b[0m\u001b[0;34m]\u001b[0m\u001b[0;34m+\u001b[0m\u001b[0mC1\u001b[0m\u001b[0;34m)\u001b[0m \u001b[0;34m%\u001b[0m \u001b[0mN\u001b[0m\u001b[0;34m)\u001b[0m \u001b[0;34m^\u001b[0m \u001b[0;34m(\u001b[0m\u001b[0;34m(\u001b[0m\u001b[0mkey_list\u001b[0m\u001b[0;34m[\u001b[0m\u001b[0;36m5\u001b[0m\u001b[0;34m]\u001b[0m\u001b[0;34m+\u001b[0m\u001b[0mC2\u001b[0m\u001b[0;34m)\u001b[0m \u001b[0;34m%\u001b[0m \u001b[0mN\u001b[0m\u001b[0;34m)\u001b[0m \u001b[0;34m^\u001b[0m \u001b[0;34m(\u001b[0m\u001b[0;34m(\u001b[0m\u001b[0mI_prev_r\u001b[0m \u001b[0;34m+\u001b[0m \u001b[0mkey_list\u001b[0m\u001b[0;34m[\u001b[0m\u001b[0;36m7\u001b[0m\u001b[0;34m]\u001b[0m\u001b[0;34m)\u001b[0m \u001b[0;34m%\u001b[0m \u001b[0mN\u001b[0m\u001b[0;34m)\u001b[0m \u001b[0;34m^\u001b[0m \u001b[0mimageMatrix\u001b[0m\u001b[0;34m[\u001b[0m\u001b[0mi\u001b[0m\u001b[0;34m]\u001b[0m\u001b[0;34m[\u001b[0m\u001b[0mj\u001b[0m\u001b[0;34m]\u001b[0m\u001b[0;34m[\u001b[0m\u001b[0;36m0\u001b[0m\u001b[0;34m]\u001b[0m\u001b[0;34m)\u001b[0m \u001b[0;34m+\u001b[0m \u001b[0mN\u001b[0m\u001b[0;34m-\u001b[0m\u001b[0mkey_list\u001b[0m\u001b[0;34m[\u001b[0m\u001b[0;36m6\u001b[0m\u001b[0;34m]\u001b[0m\u001b[0;34m)\u001b[0m\u001b[0;34m%\u001b[0m\u001b[0mN\u001b[0m\u001b[0;34m\u001b[0m\u001b[0;34m\u001b[0m\u001b[0m\n\u001b[0m\u001b[1;32m     57\u001b[0m                 \u001b[0mI_g\u001b[0m \u001b[0;34m=\u001b[0m \u001b[0;34m(\u001b[0m\u001b[0;34m(\u001b[0m\u001b[0;34m(\u001b[0m\u001b[0;34m(\u001b[0m\u001b[0mkey_list\u001b[0m\u001b[0;34m[\u001b[0m\u001b[0;36m4\u001b[0m\u001b[0;34m]\u001b[0m\u001b[0;34m+\u001b[0m\u001b[0mC1\u001b[0m\u001b[0;34m)\u001b[0m \u001b[0;34m%\u001b[0m \u001b[0mN\u001b[0m\u001b[0;34m)\u001b[0m \u001b[0;34m^\u001b[0m \u001b[0;34m(\u001b[0m\u001b[0;34m(\u001b[0m\u001b[0mkey_list\u001b[0m\u001b[0;34m[\u001b[0m\u001b[0;36m5\u001b[0m\u001b[0;34m]\u001b[0m\u001b[0;34m+\u001b[0m\u001b[0mC2\u001b[0m\u001b[0;34m)\u001b[0m \u001b[0;34m%\u001b[0m \u001b[0mN\u001b[0m\u001b[0;34m)\u001b[0m \u001b[0;34m^\u001b[0m \u001b[0;34m(\u001b[0m\u001b[0;34m(\u001b[0m\u001b[0mI_prev_g\u001b[0m \u001b[0;34m+\u001b[0m \u001b[0mkey_list\u001b[0m\u001b[0;34m[\u001b[0m\u001b[0;36m7\u001b[0m\u001b[0;34m]\u001b[0m\u001b[0;34m)\u001b[0m \u001b[0;34m%\u001b[0m \u001b[0mN\u001b[0m\u001b[0;34m)\u001b[0m \u001b[0;34m^\u001b[0m \u001b[0mimageMatrix\u001b[0m\u001b[0;34m[\u001b[0m\u001b[0mi\u001b[0m\u001b[0;34m]\u001b[0m\u001b[0;34m[\u001b[0m\u001b[0mj\u001b[0m\u001b[0;34m]\u001b[0m\u001b[0;34m[\u001b[0m\u001b[0;36m1\u001b[0m\u001b[0;34m]\u001b[0m\u001b[0;34m)\u001b[0m \u001b[0;34m+\u001b[0m \u001b[0mN\u001b[0m\u001b[0;34m-\u001b[0m\u001b[0mkey_list\u001b[0m\u001b[0;34m[\u001b[0m\u001b[0;36m6\u001b[0m\u001b[0;34m]\u001b[0m\u001b[0;34m)\u001b[0m\u001b[0;34m%\u001b[0m\u001b[0mN\u001b[0m\u001b[0;34m\u001b[0m\u001b[0;34m\u001b[0m\u001b[0m\n\u001b[1;32m     58\u001b[0m                 \u001b[0mI_b\u001b[0m \u001b[0;34m=\u001b[0m \u001b[0;34m(\u001b[0m\u001b[0;34m(\u001b[0m\u001b[0;34m(\u001b[0m\u001b[0;34m(\u001b[0m\u001b[0mkey_list\u001b[0m\u001b[0;34m[\u001b[0m\u001b[0;36m4\u001b[0m\u001b[0;34m]\u001b[0m\u001b[0;34m+\u001b[0m\u001b[0mC1\u001b[0m\u001b[0;34m)\u001b[0m \u001b[0;34m%\u001b[0m \u001b[0mN\u001b[0m\u001b[0;34m)\u001b[0m \u001b[0;34m^\u001b[0m \u001b[0;34m(\u001b[0m\u001b[0;34m(\u001b[0m\u001b[0mkey_list\u001b[0m\u001b[0;34m[\u001b[0m\u001b[0;36m5\u001b[0m\u001b[0;34m]\u001b[0m\u001b[0;34m+\u001b[0m\u001b[0mC2\u001b[0m\u001b[0;34m)\u001b[0m \u001b[0;34m%\u001b[0m \u001b[0mN\u001b[0m\u001b[0;34m)\u001b[0m \u001b[0;34m^\u001b[0m \u001b[0;34m(\u001b[0m\u001b[0;34m(\u001b[0m\u001b[0mI_prev_b\u001b[0m \u001b[0;34m+\u001b[0m \u001b[0mkey_list\u001b[0m\u001b[0;34m[\u001b[0m\u001b[0;36m7\u001b[0m\u001b[0;34m]\u001b[0m\u001b[0;34m)\u001b[0m \u001b[0;34m%\u001b[0m \u001b[0mN\u001b[0m\u001b[0;34m)\u001b[0m \u001b[0;34m^\u001b[0m \u001b[0mimageMatrix\u001b[0m\u001b[0;34m[\u001b[0m\u001b[0mi\u001b[0m\u001b[0;34m]\u001b[0m\u001b[0;34m[\u001b[0m\u001b[0mj\u001b[0m\u001b[0;34m]\u001b[0m\u001b[0;34m[\u001b[0m\u001b[0;36m2\u001b[0m\u001b[0;34m]\u001b[0m\u001b[0;34m)\u001b[0m \u001b[0;34m+\u001b[0m \u001b[0mN\u001b[0m\u001b[0;34m-\u001b[0m\u001b[0mkey_list\u001b[0m\u001b[0;34m[\u001b[0m\u001b[0;36m6\u001b[0m\u001b[0;34m]\u001b[0m\u001b[0;34m)\u001b[0m\u001b[0;34m%\u001b[0m\u001b[0mN\u001b[0m\u001b[0;34m\u001b[0m\u001b[0;34m\u001b[0m\u001b[0m\n",
            "\u001b[0;31mIndexError\u001b[0m: list index out of range"
          ]
        }
      ]
    },
    {
      "cell_type": "code",
      "source": [],
      "metadata": {
        "id": "pR81fjTg1V4Z"
      },
      "execution_count": null,
      "outputs": []
    },
    {
      "cell_type": "code",
      "source": [],
      "metadata": {
        "id": "-bz8163_w2qX"
      },
      "execution_count": null,
      "outputs": []
    }
  ]
}