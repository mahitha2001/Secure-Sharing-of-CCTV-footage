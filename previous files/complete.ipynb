{
 "cells": [
  {
   "cell_type": "code",
   "execution_count": null,
   "id": "95dd4cba",
   "metadata": {},
   "outputs": [],
   "source": []
  },
  {
   "cell_type": "code",
   "execution_count": 11,
   "id": "298b3b94",
   "metadata": {},
   "outputs": [],
   "source": [
    "import cv2\n",
    "import numpy as np\n",
    "from math import log"
   ]
  },
  {
   "cell_type": "code",
   "execution_count": 12,
   "id": "a2ccc39d",
   "metadata": {},
   "outputs": [],
   "source": [
    "def ArnoldCatTransform(img, num):\n",
    "    rows, cols, ch = img.shape\n",
    "    n = rows\n",
    "    img_arnold = np.zeros([rows, cols, ch])\n",
    "    for x in range(0, rows):\n",
    "        for y in range(0, cols):\n",
    "            img_arnold[x][y] = img[(x+y)%n][(x+2*y)%n]  \n",
    "    return img_arnold    "
   ]
  },
  {
   "cell_type": "code",
   "execution_count": 13,
   "id": "3b92cfb9",
   "metadata": {},
   "outputs": [],
   "source": [
    "def ArnoldCatEncryption(imageName, key):\n",
    "    img = cv2.imread(imageName)\n",
    "    for i in range (0,key):\n",
    "        img = ArnoldCatTransform(img, i)\n",
    "    cv2.imwrite(imageName.split('.')[0] + \"_ArnoldcatEnc.png\", img)\n",
    "    return img"
   ]
  },
  {
   "cell_type": "code",
   "execution_count": 14,
   "id": "f6b94f54",
   "metadata": {},
   "outputs": [],
   "source": [
    "def ArnoldCatDecryption(imageName, key):\n",
    "    img = cv2.imread(imageName)\n",
    "    rows, cols, ch = img.shape\n",
    "    dimension = rows\n",
    "    decrypt_it = dimension\n",
    "    if (dimension%2==0) and 5**int(round(log(dimension/2,5))) == int(dimension/2):\n",
    "        decrypt_it = 3*dimension\n",
    "    elif 5**int(round(log(dimension,5))) == int(dimension):\n",
    "        decrypt_it = 2*dimension\n",
    "    elif (dimension%6==0) and  5**int(round(log(dimension/6,5))) == int(dimension/6):\n",
    "        decrypt_it = 2*dimension\n",
    "    else:\n",
    "        decrypt_it = int(12*dimension/7)\n",
    "    for i in range(key,decrypt_it):\n",
    "        img = ArnoldCatTransform(img, i)\n",
    "    cv2.imwrite(imageName.split('_')[0] + \"_ArnoldcatDec.png\",img)\n",
    "    return img"
   ]
  },
  {
   "cell_type": "code",
   "execution_count": 15,
   "id": "bc77915c",
   "metadata": {},
   "outputs": [],
   "source": [
    "#input params for arnoldcat encryption function\n",
    "image = \".\\\\Test3\\\\family\"\n",
    "ext = \".png\"\n",
    "key = 20"
   ]
  },
  {
   "cell_type": "code",
   "execution_count": 16,
   "id": "1ae785bc",
   "metadata": {},
   "outputs": [],
   "source": [
    "#Arnold Cat Encryption\n",
    "ArnoldCatEncryptionIm = ArnoldCatEncryption(image + ext, key)"
   ]
  },
  {
   "cell_type": "code",
   "execution_count": 17,
   "id": "368e633e",
   "metadata": {},
   "outputs": [
    {
     "data": {
      "text/plain": [
       "True"
      ]
     },
     "execution_count": 17,
     "metadata": {},
     "output_type": "execute_result"
    }
   ],
   "source": [
    "# Display the output\n",
    "cv2.imwrite('E:\\\\svnit\\\\Assignments\\\\SEM 7\\\\New FYP\\\\Attempt2\\\\Test3\\\\familyEncryption.png',ArnoldCatEncryptionIm)"
   ]
  },
  {
   "cell_type": "code",
   "execution_count": 18,
   "id": "8e12ecbd",
   "metadata": {},
   "outputs": [],
   "source": [
    "#input params for arnold cat Decryption function\n",
    "image_decrypt = \".\\\\Test3\\\\familyEncryption\"\n",
    "ext = \".png\"\n",
    "key = 20"
   ]
  },
  {
   "cell_type": "code",
   "execution_count": 20,
   "id": "5992fe8b",
   "metadata": {},
   "outputs": [],
   "source": [
    "#Arnold Decryption\n",
    "ArnoldCatDecryptionIm = ArnoldCatDecryption(image_decrypt+ext, key)"
   ]
  },
  {
   "cell_type": "code",
   "execution_count": 21,
   "id": "477f8b07",
   "metadata": {},
   "outputs": [
    {
     "data": {
      "text/plain": [
       "True"
      ]
     },
     "execution_count": 21,
     "metadata": {},
     "output_type": "execute_result"
    }
   ],
   "source": [
    "# Display the output\n",
    "cv2.imwrite('E:\\\\svnit\\\\Assignments\\\\SEM 7\\\\New FYP\\\\Attempt2\\\\Test3\\\\familyDecryption.png',ArnoldCatDecryptionIm)"
   ]
  }
 ],
 "metadata": {
  "kernelspec": {
   "display_name": "Python 3 (ipykernel)",
   "language": "python",
   "name": "python3"
  },
  "language_info": {
   "codemirror_mode": {
    "name": "ipython",
    "version": 3
   },
   "file_extension": ".py",
   "mimetype": "text/x-python",
   "name": "python",
   "nbconvert_exporter": "python",
   "pygments_lexer": "ipython3",
   "version": "3.9.13"
  }
 },
 "nbformat": 4,
 "nbformat_minor": 5
}
