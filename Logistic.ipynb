{
 "cells": [
  {
   "cell_type": "code",
   "execution_count": 1,
   "metadata": {},
   "outputs": [],
   "source": [
    "import time"
   ]
  },
  {
   "cell_type": "code",
   "execution_count": 2,
   "metadata": {},
   "outputs": [],
   "source": [
    "start = time.time()\n",
    "import cv2"
   ]
  },
  {
   "cell_type": "code",
   "execution_count": 3,
   "metadata": {
    "scrolled": true
   },
   "outputs": [],
   "source": [
    "# Load the cascade\n",
    "face_cascade = cv2.CascadeClassifier('./haarcascade_frontalface_default.xml')\n"
   ]
  },
  {
   "cell_type": "code",
   "execution_count": 4,
   "metadata": {},
   "outputs": [],
   "source": [
    "# Read the input image\n",
    "img = cv2.imread('./test.png')\n",
    "img2 = cv2.imread('./test.png')"
   ]
  },
  {
   "cell_type": "code",
   "execution_count": 5,
   "metadata": {},
   "outputs": [],
   "source": [
    "# Convert into grayscale\n",
    "gray = cv2.cvtColor(img, cv2.COLOR_BGR2GRAY)"
   ]
  },
  {
   "cell_type": "code",
   "execution_count": 6,
   "metadata": {},
   "outputs": [],
   "source": [
    "# Detect faces\n",
    "faces = face_cascade.detectMultiScale(gray, 1.1, 4)"
   ]
  },
  {
   "cell_type": "code",
   "execution_count": 7,
   "metadata": {},
   "outputs": [],
   "source": [
    "# Draw rectangle around the faces\n",
    "for (x, y, w, h) in faces:\n",
    "    cv2.rectangle(img2, (x, y), (x+w, y+h), (255, 0, 0), 2)"
   ]
  },
  {
   "cell_type": "code",
   "execution_count": 8,
   "metadata": {},
   "outputs": [
    {
     "data": {
      "text/plain": [
       "True"
      ]
     },
     "execution_count": 8,
     "metadata": {},
     "output_type": "execute_result"
    }
   ],
   "source": [
    "# Display the output\n",
    "cv2.imwrite('./FinalTestLogistic/face detection result.png', img2)"
   ]
  },
  {
   "cell_type": "code",
   "execution_count": 9,
   "metadata": {
    "scrolled": true
   },
   "outputs": [],
   "source": [
    "from PIL import Image\n",
    "import numpy as np\n",
    "import os\n",
    "from matplotlib.pyplot import imshow\n",
    "import matplotlib.pyplot as plt\n",
    "import random\n",
    "from math import log\n",
    "from tqdm import tqdm"
   ]
  },
  {
   "cell_type": "code",
   "execution_count": 10,
   "metadata": {},
   "outputs": [],
   "source": [
    "def getImageMatrix(imageName):\n",
    "    im = Image.open(imageName, mode=\"r\", formats=None) \n",
    "    pix = im.load()\n",
    "    color = 1\n",
    "    if type(pix[0,0]) == int:\n",
    "        color=0\n",
    "    image_size = im.size \n",
    "    image_matrix = []\n",
    "    for width in range(int(image_size[0])):\n",
    "        row = []\n",
    "        for height in range(int(image_size[1])):\n",
    "                row.append((pix[width,height]))\n",
    "        image_matrix.append(row)\n",
    "    return image_matrix,image_size[0],color"
   ]
  },
  {
   "cell_type": "code",
   "execution_count": 11,
   "metadata": {},
   "outputs": [],
   "source": [
    "def LogisticEncryption(imageName, key):\n",
    "    N = 256\n",
    "    key_list = [ord(x) for x in key]\n",
    "    G = [key_list[0:4] ,key_list[4:8], key_list[8:12]]\n",
    "    g = []\n",
    "    R = 1\n",
    "    for i in range(1,4):\n",
    "        s = 0\n",
    "        for j in range(1,5):\n",
    "            s += G[i-1][j-1] * (10**(-j))\n",
    "        g.append(s)\n",
    "        R = (R*s) % 1\n",
    "\n",
    "    L = (R + key_list[12]/256) % 1\n",
    "    S_x = round(((g[0]+g[1]+g[2])*(10**4) + L *(10**4)) % 256)\n",
    "    V1 = sum(key_list)\n",
    "    V2 = key_list[0]\n",
    "    for i in range(1,13):\n",
    "        V2 = V2 ^ key_list[i]\n",
    "    V = V2/V1\n",
    "\n",
    "    L_y = (V+key_list[12]/256) % 1\n",
    "    S_y = round((V+V2+L_y*10**4) % 256)\n",
    "    C1_0 = S_x\n",
    "    C2_0 = S_y\n",
    "    C = round((L*L_y*10**4) % 256)\n",
    "    C_r = round((L*L_y*10**4) % 256)\n",
    "    C_g = round((L*L_y*10**4) % 256)\n",
    "    C_b = round((L*L_y*10**4) % 256)\n",
    "    x = 4*(S_x)*(1-S_x)\n",
    "    y = 4*(S_y)*(1-S_y)\n",
    "    \n",
    "    imageMatrix,dimension, color = getImageMatrix(imageName)\n",
    "    LogisticEncryptionIm = []\n",
    "    for i in range(dimension):\n",
    "        #print(i)\n",
    "        row = []\n",
    "        for j in range(dimension):\n",
    "            while x <0.8 and x > 0.2 :\n",
    "                x = 4*x*(1-x)\n",
    "            while y <0.8 and y > 0.2 :\n",
    "                y = 4*y*(1-y)\n",
    "            x_round = round((x*(10**4))%256)\n",
    "            y_round = round((y*(10**4))%256)\n",
    "            C1 = x_round ^ ((key_list[0]+x_round) % N) ^ ((C1_0 + key_list[1])%N)\n",
    "            C2 = x_round ^ ((key_list[2]+y_round) % N) ^ ((C2_0 + key_list[3])%N) \n",
    "            if color:\n",
    "                C_r =((key_list[4]+C1) % N) ^ ((key_list[5]+C2) % N) ^ ((key_list[6]+imageMatrix[i][j][0]) % N) ^ ((C_r + key_list[7]) % N)\n",
    "                C_g =((key_list[4]+C1) % N) ^ ((key_list[5]+C2) % N) ^ ((key_list[6]+imageMatrix[i][j][1]) % N) ^ ((C_g + key_list[7]) % N)\n",
    "                C_b =((key_list[4]+C1) % N) ^ ((key_list[5]+C2) % N) ^ ((key_list[6]+imageMatrix[i][j][2]) % N) ^ ((C_b + key_list[7]) % N)\n",
    "                row.append((C_r,C_g,C_b))\n",
    "                C = C_r\n",
    "              #print(C_r,C_b,C)\n",
    "            else:\n",
    "                C = ((key_list[4]+C1) % N) ^ ((key_list[5]+C2) % N) ^ ((key_list[6]+imageMatrix[i][j]) % N) ^ ((C + key_list[7]) % N)\n",
    "                row.append(C)\n",
    "            #print(\"nand\")\n",
    "            x = (x + C/256 + key_list[8]/256 + key_list[9]/256) % 1\n",
    "            y = (x + C/256 + key_list[8]/256 + key_list[9]/256) % 1\n",
    "            for ki in range(12):\n",
    "                key_list[ki] = (key_list[ki] + key_list[12]) % 256\n",
    "                key_list[12] = key_list[12] ^ key_list[ki]\n",
    "        #print(\"reach\")\n",
    "        LogisticEncryptionIm.append(row)\n",
    "\n",
    "    im = Image.new(\"L\", (dimension, dimension))\n",
    "    if color:\n",
    "        im = Image.new(\"RGB\", (dimension, dimension))\n",
    "    else: \n",
    "        im = Image.new(\"L\", (dimension, dimension)) # L is for Black and white pixels\n",
    "      \n",
    "    pix = im.load()\n",
    "    for x in range(dimension):\n",
    "        for y in range(dimension):\n",
    "            pix[x, y] = LogisticEncryptionIm[x][y]\n",
    "    im.save(imageName + \"_LogisticEnc.png\", \"PNG\")\n"
   ]
  },
  {
   "cell_type": "code",
   "execution_count": 12,
   "metadata": {},
   "outputs": [],
   "source": [
    "#input params for arnold cat encryption function\n",
    "image = \"./FinalTestLogistic/temp\"\n",
    "ext = \".bmp\"\n",
    "key = \"abcdefghijklm\""
   ]
  },
  {
   "cell_type": "code",
   "execution_count": null,
   "metadata": {},
   "outputs": [
    {
     "name": "stdout",
     "output_type": "stream",
     "text": [
      "hello world\n",
      "hello world\n",
      "hello world\n",
      "hello world\n",
      "hello world\n"
     ]
    }
   ],
   "source": [
    "for (x, y, w, h) in faces:\n",
    "    cropped_image = img[y:y+h, x:x+w]\n",
    "    cv2.imwrite('./FinalTestLogistic/temp.bmp', cropped_image)\n",
    "    LogisticEncryption(image + ext, key)\n",
    "    print(\"hello world\")\n",
    "    im = Image.open(image + \".bmp_LogisticEnc.PNG\", 'r')\n",
    "    LogisticResult = cv2.imread(\"./FinalTestLogistic/temp.bmp_LogisticEnc.png\",cv2.IMREAD_COLOR)\n",
    "    img[y:y+h, x:x+w] = LogisticResult\n",
    "end = time.time()"
   ]
  },
  {
   "cell_type": "code",
   "execution_count": null,
   "metadata": {},
   "outputs": [],
   "source": [
    "print(\"The time of execution of Logistic Chaos Map is: \", (end-start) * 10**3, \"ms\")"
   ]
  },
  {
   "cell_type": "code",
   "execution_count": null,
   "metadata": {},
   "outputs": [],
   "source": [
    "cv2.imwrite('./FinalTestLogistic/Encryption Result.png', img)"
   ]
  },
  {
   "cell_type": "markdown",
   "metadata": {},
   "source": [
    "### Henon Decryption"
   ]
  },
  {
   "cell_type": "code",
   "execution_count": null,
   "metadata": {},
   "outputs": [],
   "source": [
    "def HenonDecryption(imageNameEnc, key):\n",
    "    imageMatrix, dimension, color = getImageMatrix(imageNameEnc)\n",
    "    transformationMatrix = genHenonMap(dimension, key)\n",
    "    pil_im = Image.open(imageNameEnc, 'r')\n",
    "    imshow(np.asarray(pil_im))\n",
    "    henonDecryptedImage = []\n",
    "    for i in range(dimension):\n",
    "        row = []\n",
    "        for j in range(dimension):\n",
    "            try:\n",
    "                if color:\n",
    "                    row.append(tuple([transformationMatrix[i][j] ^ x for x in imageMatrix[i][j]]))\n",
    "                else:\n",
    "                    row.append(transformationMatrix[i][j] ^ imageMatrix[i][j])\n",
    "            except:\n",
    "                if color:\n",
    "                    row = [tuple([transformationMatrix[i][j] ^ x for x in imageMatrix[i][j]])]\n",
    "                else :\n",
    "                    row = [transformationMatrix[i][j] ^ x for x in imageMatrix[i][j]]\n",
    "        try:\n",
    "            henonDecryptedImage.append(row)\n",
    "        except:\n",
    "            henonDecryptedImage = [row]\n",
    "    if color:\n",
    "        im = Image.new(\"RGB\", (dimension, dimension))\n",
    "    else: \n",
    "        im = Image.new(\"L\", (dimension, dimension)) # L is for Black and white pixels\n",
    "\n",
    "    pix = im.load()\n",
    "    for x in range(dimension):\n",
    "        for y in range(dimension):\n",
    "            pix[x, y] = henonDecryptedImage[x][y]\n",
    "    im.save(imageNameEnc.split('_')[0] + \"_HenonDec.png\", \"PNG\")"
   ]
  },
  {
   "cell_type": "code",
   "execution_count": null,
   "metadata": {},
   "outputs": [],
   "source": [
    "#decryption test\n",
    "imgd = cv2.imread('E:\\\\svnit\\\\Assignments\\\\SEM 7\\\\New FYP\\\\Attempt2\\\\decrypt.jpg')\n",
    "\n",
    "for (x, y, w, h) in faces:\n",
    "    cropped_image = imgd[y:y+h, x:x+w]\n",
    "    cv2.imwrite('E:\\\\svnit\\\\Assignments\\\\SEM 7\\\\New FYP\\\\Attempt2\\\\test.jpg', cropped_image)\n",
    "    c_image=cv2.imread('E:\\\\svnit\\\\Assignments\\\\SEM 7\\\\New FYP\\\\Attempt2\\\\test.jpg')\n",
    "    ArnoldCatDecrypt = ArnoldCatDecryption(image + ext , key)\n",
    "    imgd[y:y+h, x:x+w] = ArnoldCatDecrypt\n",
    "    cv2.waitKey(0)"
   ]
  },
  {
   "cell_type": "code",
   "execution_count": null,
   "metadata": {},
   "outputs": [],
   "source": []
  },
  {
   "cell_type": "code",
   "execution_count": null,
   "metadata": {},
   "outputs": [],
   "source": []
  },
  {
   "cell_type": "code",
   "execution_count": null,
   "metadata": {},
   "outputs": [],
   "source": []
  }
 ],
 "metadata": {
  "kernelspec": {
   "display_name": "Python 3 (ipykernel)",
   "language": "python",
   "name": "python3"
  },
  "language_info": {
   "codemirror_mode": {
    "name": "ipython",
    "version": 3
   },
   "file_extension": ".py",
   "mimetype": "text/x-python",
   "name": "python",
   "nbconvert_exporter": "python",
   "pygments_lexer": "ipython3",
   "version": "3.9.13"
  },
  "vscode": {
   "interpreter": {
    "hash": "b91f41160b83ffc59c7e17fa6fd02d637d5dcf1d5e59aa2db87d82178661b954"
   }
  }
 },
 "nbformat": 4,
 "nbformat_minor": 2
}
