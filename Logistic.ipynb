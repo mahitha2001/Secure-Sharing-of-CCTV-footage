{
 "cells": [
  {
   "cell_type": "code",
   "execution_count": 29,
   "metadata": {},
   "outputs": [],
   "source": [
    "import time"
   ]
  },
  {
   "cell_type": "code",
   "execution_count": 30,
   "metadata": {},
   "outputs": [],
   "source": [
    "start = time.time()\n",
    "import cv2"
   ]
  },
  {
   "cell_type": "code",
   "execution_count": 31,
   "metadata": {
    "scrolled": true
   },
   "outputs": [],
   "source": [
    "# Load the cascade\n",
    "face_cascade = cv2.CascadeClassifier('E:\\\\svnit\\\\Assignments\\\\SEM 7\\\\New FYP\\\\Attempt2\\\\haarcascade_frontalface_default.xml')"
   ]
  },
  {
   "cell_type": "code",
   "execution_count": 32,
   "metadata": {},
   "outputs": [],
   "source": [
    "# Read the input image\n",
    "img = cv2.imread('.\\\\FinalTestLogistic\\\\test.png')\n",
    "img2 = cv2.imread('.\\\\FinalTestLogistic\\\\test.png')"
   ]
  },
  {
   "cell_type": "code",
   "execution_count": 33,
   "metadata": {},
   "outputs": [],
   "source": [
    "# Convert into grayscale\n",
    "gray = cv2.cvtColor(img, cv2.COLOR_BGR2GRAY)"
   ]
  },
  {
   "cell_type": "code",
   "execution_count": 34,
   "metadata": {},
   "outputs": [],
   "source": [
    "# Detect faces\n",
    "faces = face_cascade.detectMultiScale(gray, 1.1, 4)"
   ]
  },
  {
   "cell_type": "code",
   "execution_count": 35,
   "metadata": {},
   "outputs": [],
   "source": [
    "# Draw rectangle around the faces\n",
    "for (x, y, w, h) in faces:\n",
    "    cv2.rectangle(img2, (x, y), (x+w, y+h), (255, 0, 0), 2)"
   ]
  },
  {
   "cell_type": "code",
   "execution_count": 36,
   "metadata": {},
   "outputs": [
    {
     "data": {
      "text/plain": [
       "True"
      ]
     },
     "execution_count": 36,
     "metadata": {},
     "output_type": "execute_result"
    }
   ],
   "source": [
    "# Display the output\n",
    "cv2.imwrite('E:\\\\svnit\\\\Assignments\\\\SEM 7\\\\New FYP\\\\Attempt2\\\\FinalTestLogistic\\\\face detection result.png', img2)"
   ]
  },
  {
   "cell_type": "code",
   "execution_count": 37,
   "metadata": {
    "scrolled": true
   },
   "outputs": [],
   "source": [
    "from PIL import Image\n",
    "import numpy as np\n",
    "import os\n",
    "from matplotlib.pyplot import imshow\n",
    "import matplotlib.pyplot as plt\n",
    "import random\n",
    "from math import log\n",
    "from tqdm import tqdm"
   ]
  },
  {
   "cell_type": "code",
   "execution_count": 38,
   "metadata": {},
   "outputs": [],
   "source": [
    "def getImageMatrix(imageName):\n",
    "    im = Image.open(imageName, mode=\"r\", formats=None) \n",
    "    pix = im.load()\n",
    "    color = 1\n",
    "    if type(pix[0,0]) == int:\n",
    "      color = 0\n",
    "    image_size = im.size \n",
    "    image_matrix = []\n",
    "    for width in range(int(image_size[0])):\n",
    "        row = []\n",
    "        for height in range(int(image_size[1])):\n",
    "                row.append((pix[width,height]))\n",
    "        image_matrix.append(row)\n",
    "    return image_matrix,image_size[0],color"
   ]
  },
  {
   "cell_type": "code",
   "execution_count": 39,
   "metadata": {},
   "outputs": [],
   "source": [
    "def LogisticEncryption(imageName, key):\n",
    "    N = 256\n",
    "    key_list = [ord(x) for x in key]\n",
    "    G = [key_list[0:4] ,key_list[4:8], key_list[8:12]]\n",
    "    g = []\n",
    "    R = 1\n",
    "    for i in range(1,4):\n",
    "        s = 0\n",
    "        for j in range(1,5):\n",
    "            s += G[i-1][j-1] * (10**(-j))\n",
    "        g.append(s)\n",
    "        R = (R*s) % 1\n",
    "\n",
    "    L = (R + key_list[12]/256) % 1\n",
    "    S_x = round(((g[0]+g[1]+g[2])*(10**4) + L *(10**4)) % 256)\n",
    "    V1 = sum(key_list)\n",
    "    V2 = key_list[0]\n",
    "    for i in range(1,13):\n",
    "        V2 = V2 ^ key_list[i]\n",
    "    V = V2/V1\n",
    "\n",
    "    L_y = (V+key_list[12]/256) % 1\n",
    "    S_y = round((V+V2+L_y*10**4) % 256)\n",
    "    C1_0 = S_x\n",
    "    C2_0 = S_y\n",
    "    C = round((L*L_y*10**4) % 256)\n",
    "    C_r = round((L*L_y*10**4) % 256)\n",
    "    C_g = round((L*L_y*10**4) % 256)\n",
    "    C_b = round((L*L_y*10**4) % 256)\n",
    "    x = 4*(S_x)*(1-S_x)\n",
    "    y = 4*(S_y)*(1-S_y)\n",
    "    \n",
    "    imageMatrix,dimension, color = getImageMatrix(imageName)\n",
    "    LogisticEncryptionIm = []\n",
    "    for i in range(dimension):\n",
    "        row = []\n",
    "        for j in range(dimension):\n",
    "            while x <0.8 and x > 0.2 :\n",
    "                x = 4*x*(1-x)\n",
    "            while y <0.8 and y > 0.2 :\n",
    "                y = 4*y*(1-y)\n",
    "            x_round = round((x*(10**4))%256)\n",
    "            y_round = round((y*(10**4))%256)\n",
    "            C1 = x_round ^ ((key_list[0]+x_round) % N) ^ ((C1_0 + key_list[1])%N)\n",
    "            C2 = x_round ^ ((key_list[2]+y_round) % N) ^ ((C2_0 + key_list[3])%N) \n",
    "            if color:\n",
    "              C_r =((key_list[4]+C1) % N) ^ ((key_list[5]+C2) % N) ^ ((key_list[6]+imageMatrix[i][j][0]) % N) ^ ((C_r + key_list[7]) % N)\n",
    "              C_g =((key_list[4]+C1) % N) ^ ((key_list[5]+C2) % N) ^ ((key_list[6]+imageMatrix[i][j][1]) % N) ^ ((C_g + key_list[7]) % N)\n",
    "              C_b =((key_list[4]+C1) % N) ^ ((key_list[5]+C2) % N) ^ ((key_list[6]+imageMatrix[i][j][2]) % N) ^ ((C_b + key_list[7]) % N)\n",
    "              row.append((C_r,C_g,C_b))\n",
    "              C = C_r\n",
    "\n",
    "            else:\n",
    "              C = ((key_list[4]+C1) % N) ^ ((key_list[5]+C2) % N) ^ ((key_list[6]+imageMatrix[i][j]) % N) ^ ((C + key_list[7]) % N)\n",
    "              row.append(C)\n",
    "\n",
    "            x = (x + C/256 + key_list[8]/256 + key_list[9]/256) % 1\n",
    "            y = (x + C/256 + key_list[8]/256 + key_list[9]/256) % 1\n",
    "            for ki in range(12):\n",
    "                key_list[ki] = (key_list[ki] + key_list[12]) % 256\n",
    "                key_list[12] = key_list[12] ^ key_list[ki]\n",
    "        LogisticEncryptionIm.append(row)\n",
    "\n",
    "    im = Image.new(\"L\", (dimension, dimension))\n",
    "    if color:\n",
    "        im = Image.new(\"RGB\", (dimension, dimension))\n",
    "    else: \n",
    "        im = Image.new(\"L\", (dimension, dimension)) # L is for Black and white pixels\n",
    "      \n",
    "    pix = im.load()\n",
    "    for x in range(dimension):\n",
    "        for y in range(dimension):\n",
    "            pix[x, y] = LogisticEncryptionIm[x][y]\n",
    "    im.save(imageName + \"_LogisticEnc.png\", \"PNG\")\n"
   ]
  },
  {
   "cell_type": "code",
   "execution_count": 40,
   "metadata": {},
   "outputs": [],
   "source": [
    "#input params for arnold cat encryption function\n",
    "image = \".\\\\FinalTestLogistic\\\\temp\"\n",
    "ext = \".bmp\"\n",
    "key = \"abcdefghijklm\""
   ]
  },
  {
   "cell_type": "code",
   "execution_count": 41,
   "metadata": {},
   "outputs": [],
   "source": [
    "for (x, y, w, h) in faces:\n",
    "    cropped_image = img[y:y+h, x:x+w]\n",
    "    #cv2.imshow(\"crop faces\", cropped_image)\n",
    "    cv2.imwrite('E:\\\\svnit\\\\Assignments\\\\SEM 7\\\\New FYP\\\\Attempt2\\\\FinalTestLogistic\\\\temp.bmp', cropped_image)\n",
    "    LogisticEncryption(image + ext, key)\n",
    "    im = Image.open(image + \".bmp_LogisticEnc.PNG\", 'r')\n",
    "    #imshow(np.asarray(im))\n",
    "    LogisticResult = cv2.imread(\".\\\\FinalTestLogistic\\\\temp.bmp_LogisticEnc.png\",cv2.IMREAD_COLOR)\n",
    "    #print(HenonResult)\n",
    "    #cv2.imshow('Henon Result', HenonResult)\n",
    "    img[y:y+h, x:x+w] = LogisticResult\n",
    "    #cv2.waitKey(0)\n",
    "end = time.time()"
   ]
  },
  {
   "cell_type": "code",
   "execution_count": 42,
   "metadata": {},
   "outputs": [
    {
     "name": "stdout",
     "output_type": "stream",
     "text": [
      "The time of execution of Logistic Chaos Map is:  2756.058692932129 ms\n"
     ]
    }
   ],
   "source": [
    "print(\"The time of execution of Logistic Chaos Map is: \", (end-start) * 10**3, \"ms\")"
   ]
  },
  {
   "cell_type": "code",
   "execution_count": 43,
   "metadata": {},
   "outputs": [
    {
     "data": {
      "text/plain": [
       "True"
      ]
     },
     "execution_count": 43,
     "metadata": {},
     "output_type": "execute_result"
    }
   ],
   "source": [
    "cv2.imwrite('E:\\\\svnit\\\\Assignments\\\\SEM 7\\\\New FYP\\\\Attempt2\\\\FinalTestLogistic\\\\Encryption Result.png', img)"
   ]
  },
  {
   "cell_type": "markdown",
   "metadata": {},
   "source": [
    "### Henon Decryption"
   ]
  },
  {
   "cell_type": "code",
   "execution_count": 44,
   "metadata": {},
   "outputs": [],
   "source": [
    "def HenonDecryption(imageNameEnc, key):\n",
    "    imageMatrix, dimension, color = getImageMatrix(imageNameEnc)\n",
    "    transformationMatrix = genHenonMap(dimension, key)\n",
    "    pil_im = Image.open(imageNameEnc, 'r')\n",
    "    imshow(np.asarray(pil_im))\n",
    "    henonDecryptedImage = []\n",
    "    for i in range(dimension):\n",
    "        row = []\n",
    "        for j in range(dimension):\n",
    "            try:\n",
    "                if color:\n",
    "                    row.append(tuple([transformationMatrix[i][j] ^ x for x in imageMatrix[i][j]]))\n",
    "                else:\n",
    "                    row.append(transformationMatrix[i][j] ^ imageMatrix[i][j])\n",
    "            except:\n",
    "                if color:\n",
    "                    row = [tuple([transformationMatrix[i][j] ^ x for x in imageMatrix[i][j]])]\n",
    "                else :\n",
    "                    row = [transformationMatrix[i][j] ^ x for x in imageMatrix[i][j]]\n",
    "        try:\n",
    "            henonDecryptedImage.append(row)\n",
    "        except:\n",
    "            henonDecryptedImage = [row]\n",
    "    if color:\n",
    "        im = Image.new(\"RGB\", (dimension, dimension))\n",
    "    else: \n",
    "        im = Image.new(\"L\", (dimension, dimension)) # L is for Black and white pixels\n",
    "\n",
    "    pix = im.load()\n",
    "    for x in range(dimension):\n",
    "        for y in range(dimension):\n",
    "            pix[x, y] = henonDecryptedImage[x][y]\n",
    "    im.save(imageNameEnc.split('_')[0] + \"_HenonDec.png\", \"PNG\")"
   ]
  },
  {
   "cell_type": "code",
   "execution_count": 45,
   "metadata": {},
   "outputs": [
    {
     "ename": "TypeError",
     "evalue": "'NoneType' object is not subscriptable",
     "output_type": "error",
     "traceback": [
      "\u001b[1;31m---------------------------------------------------------------------------\u001b[0m",
      "\u001b[1;31mTypeError\u001b[0m                                 Traceback (most recent call last)",
      "Cell \u001b[1;32mIn[45], line 5\u001b[0m\n\u001b[0;32m      2\u001b[0m imgd \u001b[38;5;241m=\u001b[39m cv2\u001b[38;5;241m.\u001b[39mimread(\u001b[38;5;124m'\u001b[39m\u001b[38;5;124mE:\u001b[39m\u001b[38;5;130;01m\\\\\u001b[39;00m\u001b[38;5;124msvnit\u001b[39m\u001b[38;5;130;01m\\\\\u001b[39;00m\u001b[38;5;124mAssignments\u001b[39m\u001b[38;5;130;01m\\\\\u001b[39;00m\u001b[38;5;124mSEM 7\u001b[39m\u001b[38;5;130;01m\\\\\u001b[39;00m\u001b[38;5;124mNew FYP\u001b[39m\u001b[38;5;130;01m\\\\\u001b[39;00m\u001b[38;5;124mAttempt2\u001b[39m\u001b[38;5;130;01m\\\\\u001b[39;00m\u001b[38;5;124mdecrypt.jpg\u001b[39m\u001b[38;5;124m'\u001b[39m)\n\u001b[0;32m      4\u001b[0m \u001b[38;5;28;01mfor\u001b[39;00m (x, y, w, h) \u001b[38;5;129;01min\u001b[39;00m faces:\n\u001b[1;32m----> 5\u001b[0m     cropped_image \u001b[38;5;241m=\u001b[39m \u001b[43mimgd\u001b[49m\u001b[43m[\u001b[49m\u001b[43my\u001b[49m\u001b[43m:\u001b[49m\u001b[43my\u001b[49m\u001b[38;5;241;43m+\u001b[39;49m\u001b[43mh\u001b[49m\u001b[43m,\u001b[49m\u001b[43m \u001b[49m\u001b[43mx\u001b[49m\u001b[43m:\u001b[49m\u001b[43mx\u001b[49m\u001b[38;5;241;43m+\u001b[39;49m\u001b[43mw\u001b[49m\u001b[43m]\u001b[49m\n\u001b[0;32m      6\u001b[0m     cv2\u001b[38;5;241m.\u001b[39mimwrite(\u001b[38;5;124m'\u001b[39m\u001b[38;5;124mE:\u001b[39m\u001b[38;5;130;01m\\\\\u001b[39;00m\u001b[38;5;124msvnit\u001b[39m\u001b[38;5;130;01m\\\\\u001b[39;00m\u001b[38;5;124mAssignments\u001b[39m\u001b[38;5;130;01m\\\\\u001b[39;00m\u001b[38;5;124mSEM 7\u001b[39m\u001b[38;5;130;01m\\\\\u001b[39;00m\u001b[38;5;124mNew FYP\u001b[39m\u001b[38;5;130;01m\\\\\u001b[39;00m\u001b[38;5;124mAttempt2\u001b[39m\u001b[38;5;130;01m\\\\\u001b[39;00m\u001b[38;5;124mtest.jpg\u001b[39m\u001b[38;5;124m'\u001b[39m, cropped_image)\n\u001b[0;32m      7\u001b[0m     c_image\u001b[38;5;241m=\u001b[39mcv2\u001b[38;5;241m.\u001b[39mimread(\u001b[38;5;124m'\u001b[39m\u001b[38;5;124mE:\u001b[39m\u001b[38;5;130;01m\\\\\u001b[39;00m\u001b[38;5;124msvnit\u001b[39m\u001b[38;5;130;01m\\\\\u001b[39;00m\u001b[38;5;124mAssignments\u001b[39m\u001b[38;5;130;01m\\\\\u001b[39;00m\u001b[38;5;124mSEM 7\u001b[39m\u001b[38;5;130;01m\\\\\u001b[39;00m\u001b[38;5;124mNew FYP\u001b[39m\u001b[38;5;130;01m\\\\\u001b[39;00m\u001b[38;5;124mAttempt2\u001b[39m\u001b[38;5;130;01m\\\\\u001b[39;00m\u001b[38;5;124mtest.jpg\u001b[39m\u001b[38;5;124m'\u001b[39m)\n",
      "\u001b[1;31mTypeError\u001b[0m: 'NoneType' object is not subscriptable"
     ]
    }
   ],
   "source": [
    "#decryption test\n",
    "imgd = cv2.imread('E:\\\\svnit\\\\Assignments\\\\SEM 7\\\\New FYP\\\\Attempt2\\\\decrypt.jpg')\n",
    "\n",
    "for (x, y, w, h) in faces:\n",
    "    cropped_image = imgd[y:y+h, x:x+w]\n",
    "    cv2.imwrite('E:\\\\svnit\\\\Assignments\\\\SEM 7\\\\New FYP\\\\Attempt2\\\\test.jpg', cropped_image)\n",
    "    c_image=cv2.imread('E:\\\\svnit\\\\Assignments\\\\SEM 7\\\\New FYP\\\\Attempt2\\\\test.jpg')\n",
    "    ArnoldCatDecrypt = ArnoldCatDecryption(image + ext , key)\n",
    "    imgd[y:y+h, x:x+w] = ArnoldCatDecrypt\n",
    "    cv2.waitKey(0)"
   ]
  },
  {
   "cell_type": "code",
   "execution_count": null,
   "metadata": {},
   "outputs": [],
   "source": []
  },
  {
   "cell_type": "code",
   "execution_count": null,
   "metadata": {},
   "outputs": [],
   "source": []
  },
  {
   "cell_type": "code",
   "execution_count": null,
   "metadata": {},
   "outputs": [],
   "source": []
  }
 ],
 "metadata": {
  "kernelspec": {
   "display_name": "Python 3 (ipykernel)",
   "language": "python",
   "name": "python3"
  },
  "language_info": {
   "codemirror_mode": {
    "name": "ipython",
    "version": 3
   },
   "file_extension": ".py",
   "mimetype": "text/x-python",
   "name": "python",
   "nbconvert_exporter": "python",
   "pygments_lexer": "ipython3",
   "version": "3.11.0"
  },
  "vscode": {
   "interpreter": {
    "hash": "b91f41160b83ffc59c7e17fa6fd02d637d5dcf1d5e59aa2db87d82178661b954"
   }
  }
 },
 "nbformat": 4,
 "nbformat_minor": 2
}
