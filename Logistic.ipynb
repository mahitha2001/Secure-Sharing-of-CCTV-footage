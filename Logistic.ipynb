{
 "cells": [
  {
   "cell_type": "code",
   "execution_count": 1,
   "metadata": {},
   "outputs": [],
   "source": [
    "import cv2"
   ]
  },
  {
   "cell_type": "code",
   "execution_count": 2,
   "metadata": {
    "scrolled": true
   },
   "outputs": [],
   "source": [
    "# Load the cascade\n",
    "face_cascade = cv2.CascadeClassifier('E:\\\\svnit\\\\Assignments\\\\SEM 7\\\\New FYP\\\\Attempt2\\\\haarcascade_frontalface_default.xml')"
   ]
  },
  {
   "cell_type": "code",
   "execution_count": 3,
   "metadata": {},
   "outputs": [],
   "source": [
    "# Read the input image\n",
    "img = cv2.imread('.\\\\FinalTestHenon\\\\test.png')\n",
    "img2 = cv2.imread('.\\\\FinalTestHenon\\\\test.png')"
   ]
  },
  {
   "cell_type": "code",
   "execution_count": 4,
   "metadata": {},
   "outputs": [],
   "source": [
    "# Convert into grayscale\n",
    "gray = cv2.cvtColor(img, cv2.COLOR_BGR2GRAY)"
   ]
  },
  {
   "cell_type": "code",
   "execution_count": 5,
   "metadata": {},
   "outputs": [],
   "source": [
    "# Detect faces\n",
    "faces = face_cascade.detectMultiScale(gray, 1.1, 4)"
   ]
  },
  {
   "cell_type": "code",
   "execution_count": 6,
   "metadata": {},
   "outputs": [],
   "source": [
    "# Draw rectangle around the faces\n",
    "for (x, y, w, h) in faces:\n",
    "    cv2.rectangle(img2, (x, y), (x+w, y+h), (255, 0, 0), 2)"
   ]
  },
  {
   "cell_type": "code",
   "execution_count": 7,
   "metadata": {},
   "outputs": [
    {
     "data": {
      "text/plain": [
       "True"
      ]
     },
     "execution_count": 7,
     "metadata": {},
     "output_type": "execute_result"
    }
   ],
   "source": [
    "# Display the output\n",
    "cv2.imwrite('E:\\\\svnit\\\\Assignments\\\\SEM 7\\\\New FYP\\\\Attempt2\\\\FinalTestHenon\\\\face detection result.png', img2)"
   ]
  },
  {
   "cell_type": "code",
   "execution_count": 8,
   "metadata": {
    "scrolled": true
   },
   "outputs": [],
   "source": [
    "from PIL import Image\n",
    "import numpy as np\n",
    "import os\n",
    "from matplotlib.pyplot import imshow\n",
    "import matplotlib.pyplot as plt\n",
    "import cv2 \n",
    "import random\n",
    "from math import log\n",
    "from tqdm import tqdm"
   ]
  },
  {
   "cell_type": "code",
   "execution_count": 9,
   "metadata": {},
   "outputs": [],
   "source": [
    "def getImageMatrix(imageName):\n",
    "    im = Image.open(imageName, mode=\"r\", formats=None) \n",
    "    pix = im.load()\n",
    "    color = 1\n",
    "    if type(pix[0,0]) == int:\n",
    "      color = 0\n",
    "    image_size = im.size \n",
    "    image_matrix = []\n",
    "    for width in range(int(image_size[0])):\n",
    "        row = []\n",
    "        for height in range(int(image_size[1])):\n",
    "                row.append((pix[width,height]))\n",
    "        image_matrix.append(row)\n",
    "    return image_matrix,image_size[0],color"
   ]
  },
  {
   "cell_type": "code",
   "execution_count": 10,
   "metadata": {},
   "outputs": [],
   "source": [
    "def dec(bitSequence):\n",
    "    decimal = 0\n",
    "    for bit in bitSequence:\n",
    "        decimal = decimal * 2 + int(bit)\n",
    "    return decimal"
   ]
  },
  {
   "cell_type": "code",
   "execution_count": 11,
   "metadata": {},
   "outputs": [],
   "source": [
    "def genHenonMap(dimension, key):\n",
    "    x = key[0]\n",
    "    y = key[1]\n",
    "    sequenceSize = dimension * dimension * 8 #Total Number of bitSequence produced\n",
    "    bitSequence = []    #Each bitSequence contains 8 bits\n",
    "    byteArray = []      #Each byteArray contains m( i.e 512 in this case) bitSequence\n",
    "    TImageMatrix = []   #Each TImageMatrix contains m*n byteArray( i.e 512 byteArray in this case)\n",
    "    for i in range(sequenceSize):\n",
    "        xN = y + 1 - 1.4 * x**2\n",
    "        yN = 0.3 * x\n",
    "\n",
    "        x = xN\n",
    "        y = yN\n",
    "\n",
    "        if xN <= 0.4:\n",
    "            bit = 0\n",
    "        else:\n",
    "            bit = 1\n",
    "\n",
    "        try:\n",
    "            bitSequence.append(bit)\n",
    "        except:\n",
    "            bitSequence = [bit]\n",
    "\n",
    "        if i % 8 == 7:\n",
    "            decimal = dec(bitSequence)\n",
    "            try:\n",
    "                byteArray.append(decimal)\n",
    "            except:\n",
    "                byteArray = [decimal]\n",
    "            bitSequence = []\n",
    "\n",
    "        byteArraySize = dimension*8\n",
    "        if i % byteArraySize == byteArraySize-1:\n",
    "            try:\n",
    "                TImageMatrix.append(byteArray)\n",
    "            except:\n",
    "                TImageMatrix = [byteArray]\n",
    "            byteArray = []\n",
    "    return TImageMatrix"
   ]
  },
  {
   "cell_type": "markdown",
   "metadata": {},
   "source": [
    "### Henon Encryption"
   ]
  },
  {
   "cell_type": "code",
   "execution_count": 12,
   "metadata": {},
   "outputs": [],
   "source": [
    "def HenonEncryption(imageName,key):\n",
    "    imageMatrix, dimension, color = getImageMatrix(imageName)\n",
    "    transformationMatrix = genHenonMap(dimension, key)\n",
    "    resultantMatrix = []\n",
    "    for i in range(dimension):\n",
    "        row = []\n",
    "        for j in range(dimension):\n",
    "            try:\n",
    "                if color:\n",
    "                    row.append(tuple([transformationMatrix[i][j] ^ x for x in imageMatrix[i][j]]))\n",
    "                else:\n",
    "                    row.append(transformationMatrix[i][j] ^ imageMatrix[i][j])\n",
    "            except:\n",
    "                if color:\n",
    "                    row = [tuple([transformationMatrix[i][j] ^ x for x in imageMatrix[i][j]])]\n",
    "                else :\n",
    "                    row = [transformationMatrix[i][j] ^ x for x in imageMatrix[i][j]]\n",
    "        try:    \n",
    "            resultantMatrix.append(row)\n",
    "        except:\n",
    "            resultantMatrix = [row]\n",
    "    if color:\n",
    "      im = Image.new(\"RGB\", (dimension, dimension))\n",
    "    else: \n",
    "      im = Image.new(\"L\", (dimension, dimension)) # L is for Black and white pixels\n",
    "\n",
    "    pix = im.load()\n",
    "    for x in range(dimension):\n",
    "        for y in range(dimension):\n",
    "            pix[x, y] = resultantMatrix[x][y]\n",
    "            \n",
    "    im.save(imageName + \"_HenonEnc.png\", \"PNG\")"
   ]
  },
  {
   "cell_type": "code",
   "execution_count": 13,
   "metadata": {},
   "outputs": [],
   "source": [
    "#input params for arnold cat encryption function\n",
    "image = \".\\\\FinalTestHenon\\\\temp\"\n",
    "ext = \".png\"\n",
    "key = (0.1,0.1)"
   ]
  },
  {
   "cell_type": "code",
   "execution_count": 14,
   "metadata": {},
   "outputs": [],
   "source": [
    "for (x, y, w, h) in faces:\n",
    "    cropped_image = img[y:y+h, x:x+w]\n",
    "    cv2.imshow(\"crop faces\", cropped_image)\n",
    "    cv2.imwrite('E:\\\\svnit\\\\Assignments\\\\SEM 7\\\\New FYP\\\\Attempt2\\\\FinalTestHenon\\\\temp.png', cropped_image)\n",
    "    HenonEncryption(image + ext, key)\n",
    "    im = Image.open(image + \".png_HenonEnc.PNG\", 'r')\n",
    "    #imshow(np.asarray(im))\n",
    "    HenonResult = cv2.imread(\".\\\\FinalTestHenon\\\\temp.png_HenonEnc.PNG\",cv2.IMREAD_COLOR)\n",
    "    #print(HenonResult)\n",
    "    cv2.imshow('Henon Result', HenonResult)\n",
    "    img[y:y+h, x:x+w] = HenonResult\n",
    "    #cv2.waitKey(0)"
   ]
  },
  {
   "cell_type": "code",
   "execution_count": 15,
   "metadata": {},
   "outputs": [
    {
     "data": {
      "text/plain": [
       "True"
      ]
     },
     "execution_count": 15,
     "metadata": {},
     "output_type": "execute_result"
    }
   ],
   "source": [
    "cv2.imwrite('E:\\\\svnit\\\\Assignments\\\\SEM 7\\\\New FYP\\\\Attempt2\\\\FinalTestHenon\\\\Encryption Result.png', img)"
   ]
  },
  {
   "cell_type": "markdown",
   "metadata": {},
   "source": [
    "### Henon Decryption"
   ]
  },
  {
   "cell_type": "code",
   "execution_count": 49,
   "metadata": {},
   "outputs": [],
   "source": [
    "def HenonDecryption(imageNameEnc, key):\n",
    "    imageMatrix, dimension, color = getImageMatrix(imageNameEnc)\n",
    "    transformationMatrix = genHenonMap(dimension, key)\n",
    "    pil_im = Image.open(imageNameEnc, 'r')\n",
    "    imshow(np.asarray(pil_im))\n",
    "    henonDecryptedImage = []\n",
    "    for i in range(dimension):\n",
    "        row = []\n",
    "        for j in range(dimension):\n",
    "            try:\n",
    "                if color:\n",
    "                    row.append(tuple([transformationMatrix[i][j] ^ x for x in imageMatrix[i][j]]))\n",
    "                else:\n",
    "                    row.append(transformationMatrix[i][j] ^ imageMatrix[i][j])\n",
    "            except:\n",
    "                if color:\n",
    "                    row = [tuple([transformationMatrix[i][j] ^ x for x in imageMatrix[i][j]])]\n",
    "                else :\n",
    "                    row = [transformationMatrix[i][j] ^ x for x in imageMatrix[i][j]]\n",
    "        try:\n",
    "            henonDecryptedImage.append(row)\n",
    "        except:\n",
    "            henonDecryptedImage = [row]\n",
    "    if color:\n",
    "        im = Image.new(\"RGB\", (dimension, dimension))\n",
    "    else: \n",
    "        im = Image.new(\"L\", (dimension, dimension)) # L is for Black and white pixels\n",
    "\n",
    "    pix = im.load()\n",
    "    for x in range(dimension):\n",
    "        for y in range(dimension):\n",
    "            pix[x, y] = henonDecryptedImage[x][y]\n",
    "    im.save(imageNameEnc.split('_')[0] + \"_HenonDec.png\", \"PNG\")"
   ]
  },
  {
   "cell_type": "code",
   "execution_count": 50,
   "metadata": {},
   "outputs": [
    {
     "ename": "TypeError",
     "evalue": "'NoneType' object is not subscriptable",
     "output_type": "error",
     "traceback": [
      "\u001b[1;31m---------------------------------------------------------------------------\u001b[0m",
      "\u001b[1;31mTypeError\u001b[0m                                 Traceback (most recent call last)",
      "Cell \u001b[1;32mIn[50], line 5\u001b[0m\n\u001b[0;32m      2\u001b[0m imgd \u001b[38;5;241m=\u001b[39m cv2\u001b[38;5;241m.\u001b[39mimread(\u001b[38;5;124m'\u001b[39m\u001b[38;5;124mE:\u001b[39m\u001b[38;5;130;01m\\\\\u001b[39;00m\u001b[38;5;124msvnit\u001b[39m\u001b[38;5;130;01m\\\\\u001b[39;00m\u001b[38;5;124mAssignments\u001b[39m\u001b[38;5;130;01m\\\\\u001b[39;00m\u001b[38;5;124mSEM 7\u001b[39m\u001b[38;5;130;01m\\\\\u001b[39;00m\u001b[38;5;124mNew FYP\u001b[39m\u001b[38;5;130;01m\\\\\u001b[39;00m\u001b[38;5;124mAttempt2\u001b[39m\u001b[38;5;130;01m\\\\\u001b[39;00m\u001b[38;5;124mdecrypt.jpg\u001b[39m\u001b[38;5;124m'\u001b[39m)\n\u001b[0;32m      4\u001b[0m \u001b[38;5;28;01mfor\u001b[39;00m (x, y, w, h) \u001b[38;5;129;01min\u001b[39;00m faces:\n\u001b[1;32m----> 5\u001b[0m     cropped_image \u001b[38;5;241m=\u001b[39m \u001b[43mimgd\u001b[49m\u001b[43m[\u001b[49m\u001b[43my\u001b[49m\u001b[43m:\u001b[49m\u001b[43my\u001b[49m\u001b[38;5;241;43m+\u001b[39;49m\u001b[43mh\u001b[49m\u001b[43m,\u001b[49m\u001b[43m \u001b[49m\u001b[43mx\u001b[49m\u001b[43m:\u001b[49m\u001b[43mx\u001b[49m\u001b[38;5;241;43m+\u001b[39;49m\u001b[43mw\u001b[49m\u001b[43m]\u001b[49m\n\u001b[0;32m      6\u001b[0m     cv2\u001b[38;5;241m.\u001b[39mimwrite(\u001b[38;5;124m'\u001b[39m\u001b[38;5;124mE:\u001b[39m\u001b[38;5;130;01m\\\\\u001b[39;00m\u001b[38;5;124msvnit\u001b[39m\u001b[38;5;130;01m\\\\\u001b[39;00m\u001b[38;5;124mAssignments\u001b[39m\u001b[38;5;130;01m\\\\\u001b[39;00m\u001b[38;5;124mSEM 7\u001b[39m\u001b[38;5;130;01m\\\\\u001b[39;00m\u001b[38;5;124mNew FYP\u001b[39m\u001b[38;5;130;01m\\\\\u001b[39;00m\u001b[38;5;124mAttempt2\u001b[39m\u001b[38;5;130;01m\\\\\u001b[39;00m\u001b[38;5;124mtest.jpg\u001b[39m\u001b[38;5;124m'\u001b[39m, cropped_image)\n\u001b[0;32m      7\u001b[0m     c_image\u001b[38;5;241m=\u001b[39mcv2\u001b[38;5;241m.\u001b[39mimread(\u001b[38;5;124m'\u001b[39m\u001b[38;5;124mE:\u001b[39m\u001b[38;5;130;01m\\\\\u001b[39;00m\u001b[38;5;124msvnit\u001b[39m\u001b[38;5;130;01m\\\\\u001b[39;00m\u001b[38;5;124mAssignments\u001b[39m\u001b[38;5;130;01m\\\\\u001b[39;00m\u001b[38;5;124mSEM 7\u001b[39m\u001b[38;5;130;01m\\\\\u001b[39;00m\u001b[38;5;124mNew FYP\u001b[39m\u001b[38;5;130;01m\\\\\u001b[39;00m\u001b[38;5;124mAttempt2\u001b[39m\u001b[38;5;130;01m\\\\\u001b[39;00m\u001b[38;5;124mtest.jpg\u001b[39m\u001b[38;5;124m'\u001b[39m)\n",
      "\u001b[1;31mTypeError\u001b[0m: 'NoneType' object is not subscriptable"
     ]
    }
   ],
   "source": [
    "#decryption test\n",
    "imgd = cv2.imread('E:\\\\svnit\\\\Assignments\\\\SEM 7\\\\New FYP\\\\Attempt2\\\\decrypt.jpg')\n",
    "\n",
    "for (x, y, w, h) in faces:\n",
    "    cropped_image = imgd[y:y+h, x:x+w]\n",
    "    cv2.imwrite('E:\\\\svnit\\\\Assignments\\\\SEM 7\\\\New FYP\\\\Attempt2\\\\test.jpg', cropped_image)\n",
    "    c_image=cv2.imread('E:\\\\svnit\\\\Assignments\\\\SEM 7\\\\New FYP\\\\Attempt2\\\\test.jpg')\n",
    "    ArnoldCatDecrypt = ArnoldCatDecryption(image + ext , key)\n",
    "    imgd[y:y+h, x:x+w] = ArnoldCatDecrypt\n",
    "    cv2.waitKey(0)"
   ]
  },
  {
   "cell_type": "code",
   "execution_count": null,
   "metadata": {},
   "outputs": [],
   "source": []
  }
 ],
 "metadata": {
  "kernelspec": {
   "display_name": "Python 3 (ipykernel)",
   "language": "python",
   "name": "python3"
  },
  "language_info": {
   "codemirror_mode": {
    "name": "ipython",
    "version": 3
   },
   "file_extension": ".py",
   "mimetype": "text/x-python",
   "name": "python",
   "nbconvert_exporter": "python",
   "pygments_lexer": "ipython3",
   "version": "3.11.0"
  },
  "vscode": {
   "interpreter": {
    "hash": "b91f41160b83ffc59c7e17fa6fd02d637d5dcf1d5e59aa2db87d82178661b954"
   }
  }
 },
 "nbformat": 4,
 "nbformat_minor": 2
}
