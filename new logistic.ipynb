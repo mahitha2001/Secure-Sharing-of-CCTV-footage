{
 "cells": [
  {
   "cell_type": "code",
   "execution_count": 1,
   "id": "0e71080e",
   "metadata": {},
   "outputs": [],
   "source": [
    "import cv2\n",
    "\n",
    "import numpy as np"
   ]
  },
  {
   "cell_type": "code",
   "execution_count": 2,
   "id": "a83b72e3",
   "metadata": {},
   "outputs": [],
   "source": [
    "# Load the cascade\n",
    "face_cascade = cv2.CascadeClassifier('./haarcascade_frontalface_default.xml')\n"
   ]
  },
  {
   "cell_type": "code",
   "execution_count": 3,
   "id": "116a11af",
   "metadata": {},
   "outputs": [],
   "source": [
    "# Read the input image\n",
    "img = cv2.imread('./test.png')\n",
    "img2 = cv2.imread('./test.png')"
   ]
  },
  {
   "cell_type": "code",
   "execution_count": 4,
   "id": "99c6704d",
   "metadata": {},
   "outputs": [],
   "source": [
    "# Convert into grayscale\n",
    "gray = cv2.cvtColor(img, cv2.COLOR_BGR2GRAY)"
   ]
  },
  {
   "cell_type": "code",
   "execution_count": 5,
   "id": "a2270e54",
   "metadata": {},
   "outputs": [
    {
     "name": "stdout",
     "output_type": "stream",
     "text": [
      "6\n",
      "[380  36  54  54]\n",
      "[719  24  52  52]\n",
      "<class 'numpy.ndarray'>\n"
     ]
    }
   ],
   "source": [
    "# Detect faces\n",
    "faces = face_cascade.detectMultiScale(gray, 1.1, 4)\n",
    "print(len(faces))\n",
    "print(faces[5])\n",
    "print(faces[0]) # x y w h\n",
    "print(type(faces))\n",
    "#faces = np.flip(faces)\n",
    "#print(faces[5])\n",
    "#print(faces[0]) # h w y x"
   ]
  },
  {
   "cell_type": "code",
   "execution_count": 6,
   "id": "cfeab136",
   "metadata": {},
   "outputs": [],
   "source": [
    "# Draw rectangle around the faces\n",
    "for (x, y, w, h) in faces:\n",
    "    cv2.rectangle(img, (x, y), (x+w, y+h), (255, 0, 0), 2)"
   ]
  },
  {
   "cell_type": "code",
   "execution_count": 7,
   "id": "3f7a3243",
   "metadata": {},
   "outputs": [
    {
     "data": {
      "text/plain": [
       "True"
      ]
     },
     "execution_count": 7,
     "metadata": {},
     "output_type": "execute_result"
    }
   ],
   "source": [
    "# Display the output\n",
    "cv2.imwrite('./new/face detection result.png', img)"
   ]
  },
  {
   "cell_type": "code",
   "execution_count": 8,
   "id": "fca22925",
   "metadata": {},
   "outputs": [],
   "source": [
    "from PIL import Image\n",
    "import os\n",
    "from matplotlib.pyplot import imshow\n",
    "import matplotlib.pyplot as plt\n",
    "import random\n",
    "from math import log\n",
    "from tqdm import tqdm"
   ]
  },
  {
   "cell_type": "code",
   "execution_count": 9,
   "id": "dae00658",
   "metadata": {},
   "outputs": [],
   "source": [
    "def getImageMatrix(imageName):\n",
    "    im = Image.open(imageName, mode=\"r\", formats=None) \n",
    "    pix = im.load()\n",
    "    color = 1\n",
    "    if type(pix[0,0]) == int:\n",
    "        color=0\n",
    "    image_size = im.size \n",
    "    image_matrix = []\n",
    "    for width in range(int(image_size[0])):\n",
    "        row = []\n",
    "        for height in range(int(image_size[1])):\n",
    "                row.append((pix[width,height]))\n",
    "        image_matrix.append(row)\n",
    "    return image_matrix,image_size[0],color"
   ]
  },
  {
   "cell_type": "markdown",
   "id": "8d3a58a0",
   "metadata": {},
   "source": [
    "# Encryption"
   ]
  },
  {
   "cell_type": "code",
   "execution_count": 10,
   "id": "c24fe8f5",
   "metadata": {},
   "outputs": [],
   "source": [
    "def LogisticEncryption(imageName, key):\n",
    "    N = 256\n",
    "    key_list = [ord(x) for x in key]\n",
    "    G = [key_list[0:4] ,key_list[4:8], key_list[8:12]]\n",
    "    g = []\n",
    "    R = 1\n",
    "    for i in range(1,4):\n",
    "        s = 0\n",
    "        for j in range(1,5):\n",
    "            s += G[i-1][j-1] * (10**(-j))\n",
    "        g.append(s)\n",
    "        R = (R*s) % 1\n",
    "    L = (R + key_list[12]/256) % 1\n",
    "    S_x = round(((g[0]+g[1]+g[2])*(10**4) + L *(10**4)) % 256)\n",
    "    V1 = sum(key_list)\n",
    "    V2 = key_list[0]\n",
    "    for i in range(1,13):\n",
    "        V2 = V2 ^ key_list[i]\n",
    "    V = V2/V1\n",
    "    L_y = (V+key_list[12]/256) % 1\n",
    "    S_y = round((V+V2+L_y*10**4) % 256)\n",
    "    C1_0 = S_x\n",
    "    C2_0 = S_y\n",
    "    C = round((L*L_y*10**4) % 256)\n",
    "    C_r = round((L*L_y*10**4) % 256)\n",
    "    C_g = round((L*L_y*10**4) % 256)\n",
    "    C_b = round((L*L_y*10**4) % 256)\n",
    "    x = 4*(S_x)*(1-S_x)\n",
    "    y = 4*(S_y)*(1-S_y)\n",
    "    imageMatrix,dimension, color = getImageMatrix(imageName)\n",
    "    LogisticEncryptionIm = []\n",
    "    for i in range(dimension):\n",
    "        row = []\n",
    "        for j in range(dimension):\n",
    "            while x <0.8 and x > 0.2 :\n",
    "                x = 4*x*(1-x)\n",
    "            while y <0.8 and y > 0.2 :\n",
    "                y = 4*y*(1-y)\n",
    "            x_round = round((x*(10**4))%256)\n",
    "            y_round = round((y*(10**4))%256)\n",
    "            C1 = x_round ^ ((key_list[0]+x_round) % N) ^ ((C1_0 + key_list[1])%N)\n",
    "            C2 = x_round ^ ((key_list[2]+y_round) % N) ^ ((C2_0 + key_list[3])%N) \n",
    "            if color:\n",
    "                C_r =((key_list[4]+C1) % N) ^ ((key_list[5]+C2) % N) ^ ((key_list[6]+imageMatrix[i][j][0]) % N) ^ ((C_r + key_list[7]) % N)\n",
    "                C_g =((key_list[4]+C1) % N) ^ ((key_list[5]+C2) % N) ^ ((key_list[6]+imageMatrix[i][j][1]) % N) ^ ((C_g + key_list[7]) % N)\n",
    "                C_b =((key_list[4]+C1) % N) ^ ((key_list[5]+C2) % N) ^ ((key_list[6]+imageMatrix[i][j][2]) % N) ^ ((C_b + key_list[7]) % N)\n",
    "                row.append((C_r,C_g,C_b))\n",
    "                C = C_r\n",
    "            else:\n",
    "                C = ((key_list[4]+C1) % N) ^ ((key_list[5]+C2) % N) ^ ((key_list[6]+imageMatrix[i][j]) % N) ^ ((C + key_list[7]) % N)\n",
    "                row.append(C)\n",
    "            x = (x + C/256 + key_list[8]/256 + key_list[9]/256) % 1\n",
    "            y = (x + C/256 + key_list[8]/256 + key_list[9]/256) % 1\n",
    "            for ki in range(12):\n",
    "                key_list[ki] = (key_list[ki] + key_list[12]) % 256\n",
    "                key_list[12] = key_list[12] ^ key_list[ki]\n",
    "        LogisticEncryptionIm.append(row)\n",
    "    im = Image.new('L', (dimension, dimension))\n",
    "    if color:\n",
    "        im = Image.new('RGB', (dimension, dimension))\n",
    "    else: \n",
    "        im = Image.new('L', (dimension, dimension)) # L is for Black and white pixels    \n",
    "    pix = im.load()\n",
    "    for x in range(dimension):\n",
    "        for y in range(dimension):\n",
    "            pix[x, y] = LogisticEncryptionIm[x][y]\n",
    "    im.save(imageName, \"BMP\")"
   ]
  },
  {
   "cell_type": "code",
   "execution_count": 11,
   "id": "c6d17b66",
   "metadata": {},
   "outputs": [],
   "source": [
    "#input params for arnold cat encryption function\n",
    "image = \"./new/temp\"\n",
    "ext = \".bmp\"\n",
    "key = \"abcdefghijklm\""
   ]
  },
  {
   "cell_type": "code",
   "execution_count": 12,
   "id": "16d73d6f",
   "metadata": {},
   "outputs": [
    {
     "name": "stdout",
     "output_type": "stream",
     "text": [
      "hello world\n",
      "./new/temp\n",
      "hello world\n",
      "./new/temp\n",
      "hello world\n",
      "./new/temp\n",
      "hello world\n",
      "./new/temp\n",
      "hello world\n",
      "./new/temp\n",
      "hello world\n",
      "./new/temp\n"
     ]
    }
   ],
   "source": [
    "for (x, y, w, h) in faces:\n",
    "    cropped_image = img[y:y+h, x:x+w]\n",
    "    cv2.imwrite('./new/temp.bmp', cropped_image)\n",
    "    LogisticEncryption(image + ext, key)\n",
    "    print(\"hello world\")\n",
    "    print(image)\n",
    "    im = Image.open(image + \".bmp\", 'r')\n",
    "    LogisticResult = cv2.imread(\"./new/temp.bmp\",cv2.IMREAD_COLOR)\n",
    "    img[y:y+h, x:x+w] = LogisticResult"
   ]
  },
  {
   "cell_type": "code",
   "execution_count": 13,
   "id": "b9e152f3",
   "metadata": {},
   "outputs": [
    {
     "data": {
      "text/plain": [
       "True"
      ]
     },
     "execution_count": 13,
     "metadata": {},
     "output_type": "execute_result"
    }
   ],
   "source": [
    "cv2.imwrite('./new/Encryption Result.bmp', img)"
   ]
  },
  {
   "cell_type": "markdown",
   "id": "d2bdd9e0",
   "metadata": {},
   "source": [
    "# Decryption"
   ]
  },
  {
   "cell_type": "code",
   "execution_count": 14,
   "id": "b5a4e9e4",
   "metadata": {},
   "outputs": [],
   "source": [
    "faces = np.flip(faces)"
   ]
  },
  {
   "cell_type": "code",
   "execution_count": 15,
   "id": "1bb835ec",
   "metadata": {},
   "outputs": [],
   "source": [
    "imgdecrypt = cv2.imread('./new/Encryption Result.bmp')"
   ]
  },
  {
   "cell_type": "code",
   "execution_count": 16,
   "id": "76582ff2",
   "metadata": {},
   "outputs": [],
   "source": [
    "def LogisticDecryption(imageName, key):\n",
    "    N = 256\n",
    "    key_list = [ord(x) for x in key]\n",
    "\n",
    "    G = [key_list[0:4] ,key_list[4:8], key_list[8:12]]\n",
    "    g = []\n",
    "    R = 1\n",
    "    for i in range(1,4):\n",
    "        s = 0\n",
    "        for j in range(1,5):\n",
    "            s += G[i-1][j-1] * (10**(-j))\n",
    "        g.append(s)\n",
    "        R = (R*s) % 1\n",
    "    \n",
    "    L_x = (R + key_list[12]/256) % 1\n",
    "    S_x = round(((g[0]+g[1]+g[2])*(10**4) + L_x *(10**4)) % 256)\n",
    "    V1 = sum(key_list)\n",
    "    V2 = key_list[0]\n",
    "    for i in range(1,13):\n",
    "        V2 = V2 ^ key_list[i]\n",
    "    V = V2/V1\n",
    "\n",
    "    L_y = (V+key_list[12]/256) % 1\n",
    "    S_y = round((V+V2+L_y*10**4) % 256)\n",
    "    C1_0 = S_x\n",
    "    C2_0 = S_y\n",
    "    \n",
    "    C = round((L_x*L_y*10**4) % 256)\n",
    "    I_prev = C\n",
    "    I_prev_r = C\n",
    "    I_prev_g = C\n",
    "    I_prev_b = C\n",
    "    I = C\n",
    "    I_r = C\n",
    "    I_g = C\n",
    "    I_b = C\n",
    "    x_prev = 4*(S_x)*(1-S_x)\n",
    "    y_prev = 4*(L_x)*(1-S_y)\n",
    "    x = x_prev\n",
    "    y = y_prev\n",
    "    imageMatrix, dimension, color = getImageMatrix(imageName)\n",
    "\n",
    "    henonDecryptedImage = []\n",
    "    for i in range(dimension):\n",
    "        row = []\n",
    "        for j in range(dimension):\n",
    "            while x <0.8 and x > 0.2 :\n",
    "                x = 4*x*(1-x)\n",
    "            while y <0.8 and y > 0.2 :\n",
    "                y = 4*y*(1-y)\n",
    "            x_round = round((x*(10**4))%256)\n",
    "            y_round = round((y*(10**4))%256)\n",
    "            C1 = x_round ^ ((key_list[0]+x_round) % N) ^ ((C1_0 + key_list[1])%N)\n",
    "            C2 = x_round ^ ((key_list[2]+y_round) % N) ^ ((C2_0 + key_list[3])%N) \n",
    "            if color:\n",
    "                I_r = ((((key_list[4]+C1) % N) ^ ((key_list[5]+C2) % N) ^ ((I_prev_r + key_list[7]) % N) ^ imageMatrix[i][j][0]) + N-key_list[6])%N\n",
    "                I_g = ((((key_list[4]+C1) % N) ^ ((key_list[5]+C2) % N) ^ ((I_prev_g + key_list[7]) % N) ^ imageMatrix[i][j][1]) + N-key_list[6])%N\n",
    "                I_b = ((((key_list[4]+C1) % N) ^ ((key_list[5]+C2) % N) ^ ((I_prev_b + key_list[7]) % N) ^ imageMatrix[i][j][2]) + N-key_list[6])%N\n",
    "                I_prev_r = imageMatrix[i][j][0]\n",
    "                I_prev_g = imageMatrix[i][j][1]\n",
    "                I_prev_b = imageMatrix[i][j][2]\n",
    "                row.append((I_r,I_g,I_b))\n",
    "                x = (x +  imageMatrix[i][j][0]/256 + key_list[8]/256 + key_list[9]/256) % 1\n",
    "                y = (x +  imageMatrix[i][j][0]/256 + key_list[8]/256 + key_list[9]/256) % 1  \n",
    "            else:\n",
    "                I = ((((key_list[4]+C1) % N) ^ ((key_list[5]+C2) % N) ^ ((I_prev+key_list[7]) % N) ^ imageMatrix[i][j]) + N-key_list[6])%N\n",
    "                I_prev = imageMatrix[i][j]\n",
    "                row.append(I)\n",
    "                x = (x +  imageMatrix[i][j]/256 + key_list[8]/256 + key_list[9]/256) % 1\n",
    "                y = (x +  imageMatrix[i][j]/256 + key_list[8]/256 + key_list[9]/256) % 1\n",
    "            for ki in range(12):\n",
    "                key_list[ki] = (key_list[ki] + key_list[12]) % 256\n",
    "                key_list[12] = key_list[12] ^ key_list[ki]\n",
    "        henonDecryptedImage.append(row)\n",
    "    if color:\n",
    "        im = Image.new(\"RGB\", (dimension, dimension))\n",
    "    else: \n",
    "        im = Image.new(\"L\", (dimension, dimension)) # L is for Black and white pixels\n",
    "    pix = im.load()\n",
    "    for x in range(dimension):\n",
    "        for y in range(dimension):\n",
    "            pix[x, y] = henonDecryptedImage[x][y]\n",
    "    im.save(imageName.split('_')[0], \"PNG\")"
   ]
  },
  {
   "cell_type": "code",
   "execution_count": 17,
   "id": "2b0ccd76",
   "metadata": {},
   "outputs": [],
   "source": [
    "#input params for arnold cat encryption function\n",
    "image = \"./new/temp\"\n",
    "ext = \".bmp\"\n",
    "key = \"abcdefghijklm\""
   ]
  },
  {
   "cell_type": "code",
   "execution_count": 18,
   "id": "c22e53ff",
   "metadata": {},
   "outputs": [],
   "source": [
    "#LogisticDecryption('./new/Encryption Result.bmp',\"abcdefghijklm\")\n",
    "#im = Image.open(\"lena_LogisticDec.png\", 'r')\n",
    "for (h, w, y, x) in faces:\n",
    "    cropped_image = imgdecrypt[y:y+h, x:x+w]\n",
    "    cv2.imwrite('./new/temp.bmp', cropped_image)\n",
    "    LogisticDecryption(image + ext, key)\n",
    "    im = Image.open(image + \".bmp\", 'r')\n",
    "    LogisticResult = cv2.imread(\"./new/temp.bmp\",cv2.IMREAD_COLOR)\n",
    "    imgdecrypt[y:y+h, x:x+w] = LogisticResult"
   ]
  },
  {
   "cell_type": "code",
   "execution_count": 19,
   "id": "ff13002d",
   "metadata": {},
   "outputs": [
    {
     "data": {
      "text/plain": [
       "True"
      ]
     },
     "execution_count": 19,
     "metadata": {},
     "output_type": "execute_result"
    }
   ],
   "source": [
    "cv2.imwrite('./new/Decryption Result.bmp', imgdecrypt)"
   ]
  },
  {
   "cell_type": "code",
   "execution_count": null,
   "id": "fbfc6100",
   "metadata": {},
   "outputs": [],
   "source": []
  },
  {
   "cell_type": "code",
   "execution_count": null,
   "id": "7fc570dc",
   "metadata": {},
   "outputs": [],
   "source": []
  }
 ],
 "metadata": {
  "kernelspec": {
   "display_name": "Python 3 (ipykernel)",
   "language": "python",
   "name": "python3"
  },
  "language_info": {
   "codemirror_mode": {
    "name": "ipython",
    "version": 3
   },
   "file_extension": ".py",
   "mimetype": "text/x-python",
   "name": "python",
   "nbconvert_exporter": "python",
   "pygments_lexer": "ipython3",
   "version": "3.9.13"
  }
 },
 "nbformat": 4,
 "nbformat_minor": 5
}
