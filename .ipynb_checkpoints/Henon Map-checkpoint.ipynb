{
 "cells": [
  {
   "cell_type": "code",
   "execution_count": 35,
   "metadata": {
    "scrolled": true
   },
   "outputs": [
    {
     "name": "stdout",
     "output_type": "stream",
     "text": [
      "Requirement already satisfied: opencv-python in c:\\users\\dell\\appdata\\local\\programs\\python\\python311\\lib\\site-packages (4.6.0.66)Note: you may need to restart the kernel to use updated packages.\n",
      "\n",
      "Requirement already satisfied: numpy>=1.21.2 in c:\\users\\dell\\appdata\\local\\programs\\python\\python311\\lib\\site-packages (from opencv-python) (1.23.5)\n"
     ]
    }
   ],
   "source": [
    "pip install opencv-python"
   ]
  },
  {
   "cell_type": "code",
   "execution_count": 2,
   "metadata": {},
   "outputs": [],
   "source": [
    "import cv2\n",
    "import numpy as np\n",
    "from math import log"
   ]
  },
  {
   "cell_type": "code",
   "execution_count": 3,
   "metadata": {},
   "outputs": [],
   "source": [
    "def ArnoldCatTransform(img, num):\n",
    "    rows, cols, ch = img.shape\n",
    "    n = rows\n",
    "    img_arnold = np.zeros([rows, cols, ch])\n",
    "    for x in range(0, rows):\n",
    "        for y in range(0, cols):\n",
    "            img_arnold[x][y] = img[(x+y)%n][(x+2*y)%n]  \n",
    "    return img_arnold    "
   ]
  },
  {
   "cell_type": "code",
   "execution_count": 4,
   "metadata": {},
   "outputs": [],
   "source": [
    "def ArnoldCatEncryption(imageName, key):\n",
    "    img = cv2.imread(imageName)\n",
    "    for i in range (0,key):\n",
    "        img = ArnoldCatTransform(img, i)\n",
    "    cv2.imwrite(imageName.split('.')[0] + \"_ArnoldcatEnc.png\", img)\n",
    "    return img"
   ]
  },
  {
   "cell_type": "code",
   "execution_count": 5,
   "metadata": {},
   "outputs": [],
   "source": [
    "def ArnoldCatDecryption(imageName, key):\n",
    "    img = cv2.imread(imageName)\n",
    "    rows, cols, ch = img.shape\n",
    "    dimension = rows\n",
    "    decrypt_it = dimension\n",
    "    if (dimension%2==0) and 5**int(round(log(dimension/2,5))) == int(dimension/2):\n",
    "        decrypt_it = 3*dimension\n",
    "    elif 5**int(round(log(dimension,5))) == int(dimension):\n",
    "        decrypt_it = 2*dimension\n",
    "    elif (dimension%6==0) and  5**int(round(log(dimension/6,5))) == int(dimension/6):\n",
    "        decrypt_it = 2*dimension\n",
    "    else:\n",
    "        decrypt_it = int(12*dimension/7)\n",
    "    for i in range(key,decrypt_it):\n",
    "        img = ArnoldCatTransform(img, i)\n",
    "    cv2.imwrite(imageName.split('_')[0] + \"_ArnoldcatDec.png\",img)\n",
    "    return img"
   ]
  },
  {
   "cell_type": "code",
   "execution_count": 6,
   "metadata": {
    "scrolled": true
   },
   "outputs": [],
   "source": [
    "# Load the cascade\n",
    "face_cascade = cv2.CascadeClassifier('E:\\\\svnit\\\\Assignments\\\\SEM 7\\\\New FYP\\\\Attempt2\\\\haarcascade_frontalface_default.xml')"
   ]
  },
  {
   "cell_type": "code",
   "execution_count": 13,
   "metadata": {},
   "outputs": [],
   "source": [
    "# Read the input image\n",
    "img = cv2.imread('family.jpg')"
   ]
  },
  {
   "cell_type": "code",
   "execution_count": 14,
   "metadata": {},
   "outputs": [],
   "source": [
    "# Convert into grayscale\n",
    "gray = cv2.cvtColor(img, cv2.COLOR_BGR2GRAY)"
   ]
  },
  {
   "cell_type": "code",
   "execution_count": 15,
   "metadata": {},
   "outputs": [],
   "source": [
    "# Detect faces\n",
    "faces = face_cascade.detectMultiScale(gray, 1.1, 4)"
   ]
  },
  {
   "cell_type": "code",
   "execution_count": 16,
   "metadata": {},
   "outputs": [],
   "source": [
    "#input params for arnoldcat encryption function\n",
    "image = \"test\"\n",
    "ext = \".jpg\"\n",
    "key = 20"
   ]
  },
  {
   "cell_type": "code",
   "execution_count": 17,
   "metadata": {},
   "outputs": [],
   "source": [
    "#input params for arnoldcat decryption function\n",
    "dimage = \"arnoldcatencrypt\"\n",
    "ext = \".jpg\"\n",
    "key = 20"
   ]
  },
  {
   "cell_type": "code",
   "execution_count": 18,
   "metadata": {},
   "outputs": [],
   "source": [
    "for (x, y, w, h) in faces:\n",
    "    cropped_image = img[y:y+h, x:x+w]\n",
    "    cv2.imwrite('E:\\\\svnit\\\\Assignments\\\\SEM 7\\\\New FYP\\\\Attempt2\\\\test.jpg', cropped_image)\n",
    "    c_image=cv2.imread('E:\\\\svnit\\\\Assignments\\\\SEM 7\\\\New FYP\\\\Attempt2\\\\test.jpg')\n",
    "    ArnoldCatEncryptionIm = ArnoldCatEncryption(image+ext, key)\n",
    "    cv2.imshow('Arnold cat', ArnoldCatEncryptionIm)\n",
    "    #blurImg = cv2.blur(c_image,(10,10))\n",
    "    cv2.imwrite('E:\\\\svnit\\\\Assignments\\\\SEM 7\\\\New FYP\\\\Attempt2\\\\arnoldcatencrypt.jpg', ArnoldCatEncryptionIm)\n",
    "    ArnoldCatDecrypt = ArnoldCatDecryption(dimage+ext , key)\n",
    "    cv2.imshow('arnoldcatdecrypt', ArnoldCatDecrypt)\n",
    "    img[y:y+h, x:x+w] = ArnoldCatDecrypt\n",
    "    cv2.waitKey(0)"
   ]
  },
  {
   "cell_type": "code",
   "execution_count": 19,
   "metadata": {},
   "outputs": [
    {
     "data": {
      "text/plain": [
       "True"
      ]
     },
     "execution_count": 19,
     "metadata": {},
     "output_type": "execute_result"
    }
   ],
   "source": [
    "# Display the output\n",
    "cv2.imwrite('E:\\\\svnit\\\\Assignments\\\\SEM 7\\\\New FYP\\\\Attempt2\\\\decrypt.jpg', img)\n"
   ]
  },
  {
   "cell_type": "code",
   "execution_count": 16,
   "metadata": {},
   "outputs": [],
   "source": [
    "#input params for arnoldcat encryption function\n",
    "image = \"test\"\n",
    "ext = \".jpg\"\n",
    "key = 20"
   ]
  },
  {
   "cell_type": "code",
   "execution_count": 17,
   "metadata": {},
   "outputs": [],
   "source": [
    "#decryption test\n",
    "imgd = cv2.imread('E:\\\\svnit\\\\Assignments\\\\SEM 7\\\\New FYP\\\\Attempt2\\\\decrypt.jpg')\n",
    "for (x, y, w, h) in faces:\n",
    "    cropped_image = imgd[y:y+h, x:x+w]\n",
    "    cv2.imwrite('E:\\\\svnit\\\\Assignments\\\\SEM 7\\\\New FYP\\\\Attempt2\\\\test.jpg', cropped_image)\n",
    "    c_image=cv2.imread('E:\\\\svnit\\\\Assignments\\\\SEM 7\\\\New FYP\\\\Attempt2\\\\test.jpg')\n",
    "    ArnoldCatDecrypt = ArnoldCatDecryption(image + ext , key)\n",
    "    imgd[y:y+h, x:x+w] = ArnoldCatDecrypt\n",
    "    cv2.waitKey(0)"
   ]
  },
  {
   "cell_type": "code",
   "execution_count": 18,
   "metadata": {},
   "outputs": [
    {
     "data": {
      "text/plain": [
       "True"
      ]
     },
     "execution_count": 18,
     "metadata": {},
     "output_type": "execute_result"
    }
   ],
   "source": [
    "cv2.imshow('imgd',imgd)\n",
    "cv2.imwrite('E:\\\\svnit\\\\Assignments\\\\SEM 7\\\\New FYP\\\\Attempt2\\\\decrypt.jpg', imgd)"
   ]
  },
  {
   "cell_type": "code",
   "execution_count": null,
   "metadata": {},
   "outputs": [],
   "source": []
  }
 ],
 "metadata": {
  "kernelspec": {
   "display_name": "Python 3 (ipykernel)",
   "language": "python",
   "name": "python3"
  },
  "language_info": {
   "codemirror_mode": {
    "name": "ipython",
    "version": 3
   },
   "file_extension": ".py",
   "mimetype": "text/x-python",
   "name": "python",
   "nbconvert_exporter": "python",
   "pygments_lexer": "ipython3",
   "version": "3.11.0"
  },
  "vscode": {
   "interpreter": {
    "hash": "fff62c9b514f4100dc70b36d928ca0292d624afaf7d691704f2a2a4c64b1641b"
   }
  }
 },
 "nbformat": 4,
 "nbformat_minor": 2
}
