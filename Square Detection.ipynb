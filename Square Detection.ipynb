{
 "cells": [
  {
   "cell_type": "code",
   "execution_count": 1,
   "metadata": {
    "id": "wtmGrKZOYBCE"
   },
   "outputs": [],
   "source": [
    "import numpy as np\n",
    "from PIL import Image, ImageFilter"
   ]
  },
  {
   "cell_type": "code",
   "execution_count": 2,
   "metadata": {
    "id": "rjpQuY_7YIfP"
   },
   "outputs": [],
   "source": [
    "# Open image and make into Numpy array\n",
    "im = Image.open('./SquareDetectionResults/ppl1.png').convert('RGB')\n",
    "na = np.array(im)\n",
    "orig = na.copy()    # Save original"
   ]
  },
  {
   "cell_type": "code",
   "execution_count": 3,
   "metadata": {
    "id": "D7LAPfPRYNov"
   },
   "outputs": [],
   "source": [
    "# Median filter to remove outliers\n",
    "im = im.filter(ImageFilter.MedianFilter(3))"
   ]
  },
  {
   "cell_type": "code",
   "execution_count": 4,
   "metadata": {
    "colab": {
     "base_uri": "https://localhost:8080/"
    },
    "id": "S2wwrQ45YQ0S",
    "outputId": "ac4b9955-1de3-480d-acb9-982e3863ebd4"
   },
   "outputs": [
    {
     "name": "stdout",
     "output_type": "stream",
     "text": [
      "[ 320  321  322 ... 1016 1017 1018]\n",
      "xipp [[ 320  161]\n",
      " [ 321  161]\n",
      " [ 322  161]\n",
      " ...\n",
      " [1016  409]\n",
      " [1017  409]\n",
      " [1018  409]]\n"
     ]
    }
   ],
   "source": [
    "# Find X,Y coordinates of all yellow pixels\n",
    "yellowY, yellowX = np.where(np.all(na==[0, 0, 255],axis=2))\n",
    "print(yellowX)\n",
    "#yellowY2, yellowX2= np.where(np.all(na==[0, 0, 255],axis=-2))\n",
    "zipped = np.column_stack((yellowX,yellowY))\n",
    "print(\"xipp\",zipped)"
   ]
  },
  {
   "cell_type": "code",
   "execution_count": 5,
   "metadata": {
    "colab": {
     "base_uri": "https://localhost:8080/"
    },
    "id": "yWgPwi7mYxm3",
    "outputId": "9fa9c48e-d811-4bec-825e-ab8d2021f764"
   },
   "outputs": [],
   "source": [
    "uniqueY = list(yellowY)\n",
    "uniqueX= list(set(yellowX))\n",
    "\n",
    "uniquesetX={uniqueX[0]}\n",
    "uniquesetY={uniqueY[0]}"
   ]
  },
  {
   "cell_type": "code",
   "execution_count": 6,
   "metadata": {
    "colab": {
     "base_uri": "https://localhost:8080/"
    },
    "id": "bMS3SS_LY4I6",
    "outputId": "02ac0dca-61b4-4ab8-a8fd-0eb8e499841d"
   },
   "outputs": [],
   "source": [
    "for x in range(0,len(uniqueX)-1):\n",
    "  if(uniqueX[x+1]-uniqueX[x]>=2):\n",
    "    uniquesetX.add(uniqueX[x])\n",
    "    uniquesetX.add(uniqueX[x+1])\n",
    "uniquesetX.add(uniqueX[len(uniqueX)-1])\n",
    "uniquesetX=sorted(uniquesetX)\n",
    "uniquesetY=list()\n",
    "for a in uniquesetX:\n",
    "  for x,y in zipped:\n",
    "    if(a==x):\n",
    "      uniquesetY.append(y)"
   ]
  },
  {
   "cell_type": "code",
   "execution_count": 7,
   "metadata": {
    "id": "UqbVncWVZAk7"
   },
   "outputs": [],
   "source": [
    "uniqueset2Y=list()\n",
    "uniqueset2Y.append(uniquesetY[0])"
   ]
  },
  {
   "cell_type": "code",
   "execution_count": 8,
   "metadata": {
    "colab": {
     "base_uri": "https://localhost:8080/"
    },
    "id": "hQL2slYwEdDp",
    "outputId": "b200f66c-ad45-4a2d-fa2e-5976effb30e0"
   },
   "outputs": [
    {
     "name": "stdout",
     "output_type": "stream",
     "text": [
      "uniqesetY [161, 353, 161, 353, 233, 409, 233, 409, 184, 373, 184, 373]\n",
      "tellmefinal\n",
      "[161, 353, 233, 409, 184, 373]\n"
     ]
    }
   ],
   "source": [
    "for x in range(0,len(uniquesetY)-1):\n",
    "  if(uniquesetY[x+1]-uniquesetY[x]!=1):\n",
    "    uniqueset2Y.append(uniquesetY[x])\n",
    "    uniqueset2Y.append(uniquesetY[x+1])\n",
    "uniqueset2Y.append(uniquesetY[len(uniquesetY)-1])\n",
    "print(\"uniqesetY\",uniqueset2Y)\n",
    "uniqueset3Y=list()\n",
    "for x in range(0,len(uniqueset2Y),4):\n",
    "  uniqueset3Y.append(uniqueset2Y[x])\n",
    "  uniqueset3Y.append(uniqueset2Y[x+1])\n",
    "print(\"tellmefinal\")\n",
    "print(uniqueset3Y)\n",
    "#tried rotating\n",
    "#print(\"roatted\")\n",
    "\n",
    "#rotimg = im.rotate(90)\n",
    "#na2=np.array(rotimg)\n",
    "#yellowrY, yellowrX = np.where(np.all(na2==[0, 0, 255],axis=2))\n",
    "#uniqueX= list(set(yellowrX))\n",
    "#print(uniqueX)\n",
    "# for y in range(0,len(uniqueY)):\n",
    "#   for x in range(0,len(uniquesetX)):\n",
    "    #if(na[x][y]==[0,0,255]):\n",
    "    ##  uniquesetY.add(y)\n",
    "  \n",
    "\n",
    "\n",
    "\n",
    "#uniquesetY=set()\n",
    "#for y in range(0,len(uniqueY)-1):\n",
    "#  if(uniqueY[y+1]-uniqueY[y]>=2):\n",
    "  #  print('hyi')\n",
    "  #  uniquesetY.add(uniqueY[y])\n",
    "#print(uniquesetY)\n",
    "#if()\n",
    "# top, bottom = yellowY[0], yellowY[-1]\n",
    "# left, right = yellowX[0], yellowX[-1]\n",
    "# print(top,bottom,left,right)\n",
    "\n",
    "# # Extract Region of Interest from unblurred original\n",
    "#ROI = orig[top:bottom, left:right]\n",
    "\n",
    "# Image.fromarray(ROI).save('result.png')"
   ]
  },
  {
   "cell_type": "code",
   "execution_count": 9,
   "metadata": {},
   "outputs": [],
   "source": [
    "image='./SquareDetectionResults/'\n",
    "ext='.bmp'"
   ]
  },
  {
   "cell_type": "code",
   "execution_count": 10,
   "metadata": {},
   "outputs": [],
   "source": [
    "import cv2"
   ]
  },
  {
   "cell_type": "code",
   "execution_count": 11,
   "metadata": {
    "id": "-bz8163_w2qX"
   },
   "outputs": [],
   "source": [
    "from PIL import Image\n",
    "import os\n",
    "from matplotlib.pyplot import imshow\n",
    "import matplotlib.pyplot as plt\n",
    "import random\n",
    "from math import log\n",
    "from tqdm import tqdm"
   ]
  },
  {
   "cell_type": "code",
   "execution_count": 12,
   "metadata": {},
   "outputs": [],
   "source": [
    "def getImageMatrix(imageName):\n",
    "    im = Image.open(imageName, mode=\"r\", formats=None) \n",
    "    pix = im.load()\n",
    "    color = 1\n",
    "    if type(pix[0,0]) == int:\n",
    "        color=0\n",
    "    image_size = im.size \n",
    "    image_matrix = []\n",
    "    for width in range(int(image_size[0])):\n",
    "        row = []\n",
    "        for height in range(int(image_size[1])):\n",
    "                row.append((pix[width,height]))\n",
    "        image_matrix.append(row)\n",
    "    return image_matrix,image_size[0],color"
   ]
  },
  {
   "cell_type": "code",
   "execution_count": 13,
   "metadata": {},
   "outputs": [],
   "source": [
    "def LogisticDecryption(imageName, key):\n",
    "    N = 256\n",
    "    key_list = [ord(x) for x in key]\n",
    "\n",
    "    G = [key_list[0:4] ,key_list[4:8], key_list[8:12]]\n",
    "    g = []\n",
    "    R = 1\n",
    "    for i in range(1,4):\n",
    "        s = 0\n",
    "        for j in range(1,5):\n",
    "            s += G[i-1][j-1] * (10**(-j))\n",
    "        g.append(s)\n",
    "        R = (R*s) % 1\n",
    "    \n",
    "    L_x = (R + key_list[12]/256) % 1\n",
    "    S_x = round(((g[0]+g[1]+g[2])*(10**4) + L_x *(10**4)) % 256)\n",
    "    V1 = sum(key_list)\n",
    "    V2 = key_list[0]\n",
    "    for i in range(1,13):\n",
    "        V2 = V2 ^ key_list[i]\n",
    "    V = V2/V1\n",
    "\n",
    "    L_y = (V+key_list[12]/256) % 1\n",
    "    S_y = round((V+V2+L_y*10**4) % 256)\n",
    "    C1_0 = S_x\n",
    "    C2_0 = S_y\n",
    "    \n",
    "    C = round((L_x*L_y*10**4) % 256)\n",
    "    I_prev = C\n",
    "    I_prev_r = C\n",
    "    I_prev_g = C\n",
    "    I_prev_b = C\n",
    "    I = C\n",
    "    I_r = C\n",
    "    I_g = C\n",
    "    I_b = C\n",
    "    x_prev = 4*(S_x)*(1-S_x)\n",
    "    y_prev = 4*(L_x)*(1-S_y)\n",
    "    x = x_prev\n",
    "    y = y_prev\n",
    "    imageMatrix, dimension, color = getImageMatrix(imageName)\n",
    "\n",
    "    henonDecryptedImage = []\n",
    "    for i in range(dimension):\n",
    "        row = []\n",
    "        for j in range(dimension):\n",
    "            while x <0.8 and x > 0.2 :\n",
    "                x = 4*x*(1-x)\n",
    "            while y <0.8 and y > 0.2 :\n",
    "                y = 4*y*(1-y)\n",
    "            x_round = round((x*(10**4))%256)\n",
    "            y_round = round((y*(10**4))%256)\n",
    "            C1 = x_round ^ ((key_list[0]+x_round) % N) ^ ((C1_0 + key_list[1])%N)\n",
    "            C2 = x_round ^ ((key_list[2]+y_round) % N) ^ ((C2_0 + key_list[3])%N) \n",
    "            if color:\n",
    "                I_r = ((((key_list[4]+C1) % N) ^ ((key_list[5]+C2) % N) ^ ((I_prev_r + key_list[7]) % N) ^ imageMatrix[i][j][0]) + N-key_list[6])%N\n",
    "                I_g = ((((key_list[4]+C1) % N) ^ ((key_list[5]+C2) % N) ^ ((I_prev_g + key_list[7]) % N) ^ imageMatrix[i][j][1]) + N-key_list[6])%N\n",
    "                I_b = ((((key_list[4]+C1) % N) ^ ((key_list[5]+C2) % N) ^ ((I_prev_b + key_list[7]) % N) ^ imageMatrix[i][j][2]) + N-key_list[6])%N\n",
    "                I_prev_r = imageMatrix[i][j][0]\n",
    "                I_prev_g = imageMatrix[i][j][1]\n",
    "                I_prev_b = imageMatrix[i][j][2]\n",
    "                row.append((I_r,I_g,I_b))\n",
    "                x = (x +  imageMatrix[i][j][0]/256 + key_list[8]/256 + key_list[9]/256) % 1\n",
    "                y = (x +  imageMatrix[i][j][0]/256 + key_list[8]/256 + key_list[9]/256) % 1  \n",
    "            else:\n",
    "                I = ((((key_list[4]+C1) % N) ^ ((key_list[5]+C2) % N) ^ ((I_prev+key_list[7]) % N) ^ imageMatrix[i][j]) + N-key_list[6])%N\n",
    "                I_prev = imageMatrix[i][j]\n",
    "                row.append(I)\n",
    "                x = (x +  imageMatrix[i][j]/256 + key_list[8]/256 + key_list[9]/256) % 1\n",
    "                y = (x +  imageMatrix[i][j]/256 + key_list[8]/256 + key_list[9]/256) % 1\n",
    "            for ki in range(12):\n",
    "                key_list[ki] = (key_list[ki] + key_list[12]) % 256\n",
    "                key_list[12] = key_list[12] ^ key_list[ki]\n",
    "        henonDecryptedImage.append(row)\n",
    "    if color:\n",
    "        im = Image.new(\"RGB\", (dimension, dimension))\n",
    "    else: \n",
    "        im = Image.new(\"L\", (dimension, dimension)) # L is for Black and white pixels\n",
    "    pix = im.load()\n",
    "    for x in range(dimension):\n",
    "        for y in range(dimension):\n",
    "            pix[x, y] = henonDecryptedImage[x][y]\n",
    "    im.save(image+\"decryp\"+imageName[28:-4]+ext, \"BMP\")"
   ]
  },
  {
   "cell_type": "code",
   "execution_count": 14,
   "metadata": {},
   "outputs": [],
   "source": [
    "key = \"abcdefghijklm\""
   ]
  },
  {
   "cell_type": "code",
   "execution_count": 15,
   "metadata": {},
   "outputs": [],
   "source": [
    "img = cv2.imread('./SquareDetectionResults/ppl1.png')\n",
    "faces=[]\n",
    "for i in range(0,len(uniquesetX)-1,2):\n",
    "    a=uniqueset3Y[i]\n",
    "    b=uniqueset3Y[i+1]\n",
    "    c=uniquesetX[i]\n",
    "    d=uniquesetX[i+1]\n",
    "    face=img[a+1:b,c+1:d]\n",
    "    filename=image+ext\n",
    "    cv2.imwrite(filename, face)\n",
    "    LogisticDecryption(filename, key)\n",
    "    filename=image+\"decryp\"+ext\n",
    "    DecryptResult=cv2.imread(filename)\n",
    "    img[a+1:b,c+1:d]=DecryptResult"
   ]
  },
  {
   "cell_type": "code",
   "execution_count": 16,
   "metadata": {},
   "outputs": [
    {
     "data": {
      "text/plain": [
       "True"
      ]
     },
     "execution_count": 16,
     "metadata": {},
     "output_type": "execute_result"
    }
   ],
   "source": [
    "cv2.imwrite('./SquareDetectionResults/Decryption Result.bmp', img)"
   ]
  },
  {
   "cell_type": "code",
   "execution_count": null,
   "metadata": {},
   "outputs": [],
   "source": []
  }
 ],
 "metadata": {
  "colab": {
   "provenance": []
  },
  "kernelspec": {
   "display_name": "Python 3 (ipykernel)",
   "language": "python",
   "name": "python3"
  },
  "language_info": {
   "codemirror_mode": {
    "name": "ipython",
    "version": 3
   },
   "file_extension": ".py",
   "mimetype": "text/x-python",
   "name": "python",
   "nbconvert_exporter": "python",
   "pygments_lexer": "ipython3",
   "version": "3.9.13"
  }
 },
 "nbformat": 4,
 "nbformat_minor": 1
}
